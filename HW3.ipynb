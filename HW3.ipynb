{
 "cells": [
  {
   "cell_type": "markdown",
   "metadata": {
    "id": "KdHI8a1S9iUn"
   },
   "source": [
    "# ORIE 4580/5580/5581 Assignment 3\n",
    "\n",
    "#### Students: Adrianna Ahn (ha266)\n",
    "\n",
    "### Github link: [example Github link](https://github.com/SidBanerjee/ORIE4580-Simulation/blob/main/Notebooks/Unit0-Intro_Demos.ipynb)\n"
   ]
  },
  {
   "cell_type": "markdown",
   "metadata": {
    "id": "SWIW16cwI0bB"
   },
   "source": [
    "### Instructions\n",
    "\n",
    "\n",
    "* Due Friday September 22, at 11.59am on Gradescope.\n",
    "* Assignment .ipynb files available for download on [Canvas](https://canvas.cornell.edu/courses/56826#:~:text=Assignments-,Assignments,-Assignments%20Module%20publish). Do all your work in provided notebook (text answers typeset in markdown; show all required code and generate plots inline), and then generate and submit a pdf.\n",
    "* Ideally do assignments in groups of 2, and submit a single pdf with both names\n",
    "* Please show your work and clearly mark your answers.\n",
    "* You can use any code fragments given in class, found online (for example, on StackOverflow), or generated via Bard or ChatGPT (you are encouraged to use these for first drafts) **with proper referencing**. You can also discuss with others (again, please reference them if you do so); but you must write your final answers on your own as a team.\n",
    "\n",
    "\n",
    "\n",
    "### Suggested reading\n",
    "\n",
    "Chapters 7 (you can skim through this), and chapters 8 and 9 of [Introduction to Probability](https://chance.dartmouth.edu/teaching_aids/books_articles/probability_book/book.html) by Grinstead and Snell.\n",
    "\n",
    "Chapter 3 and chapter 4 (up to section 4.5) of [Simulation by Ross](https://catalog.library.cornell.edu/catalog/12745977)."
   ]
  },
  {
   "cell_type": "code",
   "execution_count": 1,
   "metadata": {
    "id": "upFYbOmHI4Uv"
   },
   "outputs": [],
   "source": [
    "#importing necessary packages\n",
    "import numpy as np\n",
    "import matplotlib.pyplot as plt\n",
    "import scipy.stats\n",
    "%matplotlib inline"
   ]
  },
  {
   "cell_type": "markdown",
   "metadata": {
    "id": "lAy475sN9iUs"
   },
   "source": [
    "___\n",
    "___\n",
    "\n",
    "## Question 1: Combining LCGs (20 points)\n",
    "\n",
    "In order to avoid biases, simulations should not use anywhere near the full period of an LCG (otherwise, the random sequence repeats\\ldots). For example, a typical traffic simulator may have $10,000$ vehicles, each experiencing thousands of random disturbances, thus needing around $10^7$ random samples per replication -- for this, an LCG using $m=2^{31}-1\\approx 2\\times 10^9$ is insufficient, as after $100$ replications the sequences get correlated.\n",
    "\n",
    "One method to combine multiple LCGs to obtain a generator with a longer period is to add a smaller period LCG to it. For example, suppose we have two generators $X_{n+1}  =  (a_1 X_n) \\mbox{ mod } m_1$ and $Y_{n+1}  =  (a_2 Y_n) \\mbox{ mod } m_2$, with $m_1>m_2$. We can derive a combined generator by setting $Z_n  =  (X_n + Y_n) \\mbox{ mod } m_1$. If properly designed, the resulting period can be on the order of $m_1m_2$. We will now study a small example to see how this works.\n"
   ]
  },
  {
   "cell_type": "markdown",
   "metadata": {
    "id": "-geWMEJp9iUt"
   },
   "source": [
    "___\n",
    "**(a)** Consider two LCGs, $x_{n+1} = (5 x_n) \\mod 16$ and $y_{n+1} = (2 y_n) \\mod 7$. Starting both with seed $x_0 = y_0 = 1$, plot the sequences $x_n, y_n$ using the clock visualization introduced in class (separate plot for each sequence; you can use and modify the code in Demo-PRNGs.ipynb on Canvas).\n",
    "___"
   ]
  },
  {
   "cell_type": "markdown",
   "metadata": {},
   "source": [
    "### code copied from demo notebook, modified as needed"
   ]
  },
  {
   "cell_type": "code",
   "execution_count": 1,
   "metadata": {},
   "outputs": [],
   "source": [
    "# Make sure we have the packages we need\n",
    "import numpy as np\n",
    "from scipy import stats\n",
    "import math\n",
    "\n",
    "# Configuring matplotlib\n",
    "import matplotlib.pyplot as plt\n",
    "plt.rcParams[\"figure.figsize\"] = (10,10)\n",
    "plt.rcParams['axes.labelsize'] = 14\n",
    "plt.rcParams['xtick.labelsize'] = 12\n",
    "plt.rcParams['ytick.labelsize'] = 12\n",
    "plt.style.use('dark_background')\n",
    "plt.rcParams[\"image.cmap\"] = 'Set3'\n",
    "\n",
    "# Choosing a colormap for the plot colors\n",
    "cmap=plt.get_cmap('Set3')"
   ]
  },
  {
   "cell_type": "code",
   "execution_count": 2,
   "metadata": {
    "id": "5jsoc-t6D-Q7"
   },
   "outputs": [],
   "source": [
    "def plot_clock_face(m, fig, annotate=False):\n",
    "    \"\"\"\n",
    "    Plot points on a unit circle representing the LCG sequence on a clock face.\n",
    "\n",
    "    Parameters:\n",
    "    m (int): The modulus value for the LCG sequence.\n",
    "    fig (matplotlib.figure.Figure): The figure object to draw on.\n",
    "    annotate (bool): Whether to annotate points with their index.\n",
    "\n",
    "    Returns:\n",
    "    None\n",
    "    \"\"\"\n",
    "    # Plot m points on the unit circle\n",
    "    for i in range(m):\n",
    "        theta = 2.0 * np.pi * i / m\n",
    "        plt.plot(np.sin(theta), np.cos(theta), 'rs', markersize = 10)\n",
    "        if annotate:\n",
    "            plt.annotate(str(i), (np.pi/2 - theta, 1.05), xycoords='polar')\n",
    "\n",
    "def plot_clock_path(m, x, fig, color='y'):\n",
    "    \"\"\"\n",
    "    Plot the path of an LCG sequence on a clock face.\n",
    "\n",
    "    Parameters:\n",
    "    m (int): The modulus value for the LCG sequence.\n",
    "    x (numpy.ndarray): The LCG sequence.\n",
    "    fig (matplotlib.figure.Figure): The figure object to draw on.\n",
    "    color (str): The color for the path.\n",
    "\n",
    "    Returns:\n",
    "    None\n",
    "    \"\"\"\n",
    "    # Plot the seed node\n",
    "    theta_0 = 2.0 * np.pi * (x[0] * (m + 1) - 1) / m\n",
    "    plt.plot(np.sin(theta_0), np.cos(theta_0), 'gs', markersize = 10)\n",
    "\n",
    "    # Plot the path of the LCG sequence\n",
    "    for i in range(len(x) - 1):\n",
    "        theta_start = 2.0 * np.pi * (x[i] * (m + 1) - 1) / m\n",
    "        theta_end = 2.0 * np.pi * (x[i + 1] * (m + 1) - 1) / m\n",
    "        x_start = np.sin(theta_start)\n",
    "        y_start = np.cos(theta_start)\n",
    "        del_x = np.sin(theta_end) - np.sin(theta_start)\n",
    "        del_y = np.cos(theta_end) - np.cos(theta_start)\n",
    "        if abs(del_x) > 0 or abs(del_y) > 0:\n",
    "            plt.arrow(x_start, y_start, del_x, del_y,\n",
    "                      length_includes_head=True, head_width=0.05, head_length=0.1, fc=color, ec=color)\n"
   ]
  },
  {
   "cell_type": "code",
   "execution_count": 3,
   "metadata": {
    "id": "GRvFbLtFEC16"
   },
   "outputs": [],
   "source": [
    "# Function to generate pseudorandom sequence using LCG\n",
    "# Set default parameters to glibc specifications (see demo notebook)\n",
    "# Functions to visualize LCG sequence on clock (see demo notebook)\n",
    "def LCG(n, m=2**31-1, a=1103515245, seed=1):\n",
    "    \"\"\"\n",
    "    Generate a pseudorandom sequence using a Linear Congruential Generator (LCG).\n",
    "\n",
    "    Parameters:\n",
    "    n (int): The number of pseudorandom numbers to generate.\n",
    "    m (int): The modulus value (default is 2^31-1, following glibc specifications).\n",
    "    a (int): The multiplier value (default is 1103515245, following glibc specifications).\n",
    "    seed (int): The initial seed value (default is 1).\n",
    "\n",
    "    Returns:\n",
    "    numpy.ndarray: An array of pseudorandom numbers in the range [0, 1).\n",
    "    \"\"\"\n",
    "    # Initialize an array to store the generated pseudorandom numbers\n",
    "    output = np.zeros(n)\n",
    "\n",
    "    x = seed\n",
    "    for i in range(n):\n",
    "        # Calculate the pseudorandom number and normalize it to [0, 1)\n",
    "        output[i] = (x + 1.0) / (m + 1.0)\n",
    "\n",
    "        # Update the LCG state using the specified parameters\n",
    "        x = (a * x) % m\n",
    "\n",
    "    return output"
   ]
  },
  {
   "cell_type": "markdown",
   "metadata": {},
   "source": [
    "$X_{n+1}$"
   ]
  },
  {
   "cell_type": "code",
   "execution_count": 20,
   "metadata": {
    "id": "b2hOTeOyEEkI"
   },
   "outputs": [
    {
     "data": {
      "image/png": "[encoded data removed]",
      "text/plain": [
       "<Figure size 360x360 with 1 Axes>"
      ]
     },
     "metadata": {
      "needs_background": "dark"
     },
     "output_type": "display_data"
    }
   ],
   "source": [
    "m = 16\n",
    "a = 5\n",
    "seed = 1\n",
    "\n",
    "fig = plt.figure(figsize=(5,5))\n",
    "x = LCG(n=m+1,m=m,a=a,seed = seed)\n",
    "\n",
    "plot_clock_face(m,fig,annotate = True)\n",
    "plot_clock_path(m,x,fig)\n",
    "#plt.axis('equal')\n",
    "plt.axis('off')\n",
    "plt.show()"
   ]
  },
  {
   "cell_type": "markdown",
   "metadata": {},
   "source": [
    "$Y_{n+1}$"
   ]
  },
  {
   "cell_type": "code",
   "execution_count": 19,
   "metadata": {},
   "outputs": [
    {
     "data": {
      "image/png": "[encoded data removed]",
      "text/plain": [
       "<Figure size 360x360 with 1 Axes>"
      ]
     },
     "metadata": {
      "needs_background": "dark"
     },
     "output_type": "display_data"
    }
   ],
   "source": [
    "m = 7\n",
    "a = 2\n",
    "seed = 1\n",
    "\n",
    "fig = plt.figure(figsize=(5,5))\n",
    "y = LCG(n=m+1,m=m,a=a,seed = seed)\n",
    "\n",
    "plot_clock_face(m,fig,annotate = True)\n",
    "plot_clock_path(m,y,fig)\n",
    "#plt.axis('equal')\n",
    "plt.axis('off')\n",
    "plt.show()"
   ]
  },
  {
   "cell_type": "markdown",
   "metadata": {
    "id": "FDfX7mQz9iUv"
   },
   "source": [
    "___\n",
    "**(b)** Next, define a combined LCG as $z_{n} = (x_n+y_n) \\mod 16$. Starting both the base LCGs with seed $x_0 = y_0 = 1$, plot the sequence $z_n$ using the clock visualization given in class.\n",
    "___"
   ]
  },
  {
   "cell_type": "code",
   "execution_count": 37,
   "metadata": {},
   "outputs": [],
   "source": [
    "def cLCG(n, xm, xa, x, ym, ya, y):\n",
    "    \"\"\"\n",
    "    Generate pseudorandom sequence using a combination of linear congruential generator\n",
    "    \n",
    "    params:\n",
    "    n : the number of pseudorandom numbers to generate\n",
    "    \n",
    "    xm : int, modulus value for the X LCG\n",
    "    xa : int, multiplier value for the X LCG\n",
    "    x : int, initial seed value of X LCG\n",
    "    \n",
    "    ym : int, modulus value for the Y LCG\n",
    "    ya : int, multiplier value for the Y LCG\n",
    "    y : int, initial seed value of Yn LCG\n",
    "    \n",
    "    returns:\n",
    "    an np.arrray of the combined LCG sequence in range [0,1]\n",
    "    \"\"\"\n",
    "\n",
    "    output = np.zeros(n)\n",
    "    x_seed = x\n",
    "    y_seed = y\n",
    "    \n",
    "    for i in range(n):\n",
    "        x_n = (x_seed*xa) % xm\n",
    "        y_n = (y_seed*ya) % ym\n",
    "        z = (x_n + y_n) % xm\n",
    "        output[i] = (z+1.0) / (16+1.0)\n",
    "        \n",
    "        #Update values\n",
    "        x_seed = x_n\n",
    "        y_seed = y_n\n",
    "        \n",
    "    return output"
   ]
  },
  {
   "cell_type": "code",
   "execution_count": 38,
   "metadata": {},
   "outputs": [
    {
     "data": {
      "image/png": "[encoded data removed]",
      "text/plain": [
       "<Figure size 360x360 with 1 Axes>"
      ]
     },
     "metadata": {
      "needs_background": "dark"
     },
     "output_type": "display_data"
    }
   ],
   "source": [
    "m = 16\n",
    "\n",
    "x = 1\n",
    "xm = 16\n",
    "xa = 5\n",
    "\n",
    "y = 1\n",
    "ym = 7\n",
    "ya = 2\n",
    "\n",
    "fig = plt.figure(figsize=(5,5))\n",
    "z=cLCG(n=m+1, xm = xm, xa = xa, x = x, ym = ym, ya = ya, y = y)\n",
    "\n",
    "plot_clock_face(m,fig,annotate = True)\n",
    "plot_clock_path(m,z,fig)\n",
    "#plt.axis('equal')\n",
    "plt.axis('off')\n",
    "plt.show()"
   ]
  },
  {
   "cell_type": "markdown",
   "metadata": {
    "id": "W7FAnv8z9iUx"
   },
   "source": [
    "___\n",
    "**(c)** What are the periods of the pseudo-random sequences $x_n, y_n$ and $z_n$?\n",
    "___"
   ]
  },
  {
   "cell_type": "markdown",
   "metadata": {
    "id": "XAWLfsGGMO7X"
   },
   "source": [
    "### Ans.\n"
   ]
  },
  {
   "cell_type": "markdown",
   "metadata": {},
   "source": [
    "16, 3, 12 respectively"
   ]
  },
  {
   "cell_type": "markdown",
   "metadata": {
    "id": "wmL74RyC9iUz"
   },
   "source": [
    "___\n",
    "___\n",
    "## Question 2: inverting cdfs (25 pts)\n",
    "\n",
    "In class, we defined $F^{-1}(y)$ for a continuous increasing cdf $F(x)$ as the unique $x$ such that $F(x) = y$ (for $y\\in[0,1]$). More generally, for any cdf $F$ we can use the inversion method based on its generalized inverse or *pseudoinverse*:\n",
    "\t$$F^{-1}(y) = \\inf\\{x|F(x)\\geq y\\}$$\n",
    "\t(where $\\inf$ denotes the \\href{https://en.wikipedia.org/wiki/Infimum_and_supremum}{infimum}; if you have not seen this before, treat it as minimum).\n"
   ]
  },
  {
   "cell_type": "markdown",
   "metadata": {
    "id": "k8gt9TWM9iU0"
   },
   "source": [
    "___\n",
    "**(a)** Find the pseudoinverse $F^{-1}(y)$ for the following mixed (discrete/continuous) cdf\n",
    "\t$$F(x)=\n",
    "\t\\begin{cases}\n",
    "\t0 & \\mbox{for $x < 0$}\\\\\n",
    "\tx & \\mbox{for $0 \\leq x < \\frac{1}{2}$}, \\\\\n",
    "\t\\frac{1}{2} & \\mbox{for $\\frac{1}{2}\\leq x < 1$}, \\\\\n",
    "\t1 & \\mbox{for $x\\geq 1$}\n",
    "\t \\end{cases}$$\n",
    "___"
   ]
  },
  {
   "cell_type": "markdown",
   "metadata": {
    "id": "h4Vtj9TBMr6A"
   },
   "source": [
    "### Ans.\n"
   ]
  },
  {
   "cell_type": "markdown",
   "metadata": {},
   "source": [
    "$F^{-1}(y) = \\begin{cases}\n",
    "\t-\\infty & \\mbox{for $y < 0$}\\\\\n",
    "\ty & \\mbox{for $0 \\leq y < \\frac{1}{2}$}, \\\\\n",
    "\t\\frac{1}{2} & \\mbox{for $\\frac{1}{2}\\leq y < 1$}, \\\\\n",
    "\t1 & \\mbox{for $y = 1$}\n",
    "\t \\end{cases}$"
   ]
  },
  {
   "cell_type": "markdown",
   "metadata": {
    "id": "z5IrvAkx9iU1"
   },
   "source": [
    "___\n",
    "**(b)** Use the above definition to get an inversion algorithm for the $Geometric(p)$ distribution (with pmf $p(k) = p(1-p)^{k-1}\\,\\forall\\,k\\in\\{1,2,3,\\ldots\\}$). Implement this, and generate and plot the histogram of 1000 samples from a $Geometric(0.42)$ distribution.\n",
    "(For this, it may be useful for you to first understand how the [scipy.stats](https://docs.scipy.org/doc/scipy/reference/stats.html) library works, and in particular, how it provides methods to compute various statistics for many different random variables, including the [geometric r.v.](https://docs.scipy.org/doc/scipy/reference/generated/scipy.stats.geom.html#scipy.stats.geom))\n",
    "___"
   ]
  },
  {
   "cell_type": "markdown",
   "metadata": {},
   "source": [
    "## consulted chatgpt for initial code"
   ]
  },
  {
   "cell_type": "code",
   "execution_count": 39,
   "metadata": {
    "id": "JQIulHgEJrwz"
   },
   "outputs": [
    {
     "data": {
      "image/png": "[encoded data removed]",
      "text/plain": [
       "<Figure size 432x288 with 1 Axes>"
      ]
     },
     "metadata": {
      "needs_background": "dark"
     },
     "output_type": "display_data"
    }
   ],
   "source": [
    "import numpy as np\n",
    "import matplotlib.pyplot as plt\n",
    "from scipy import stats\n",
    "\n",
    "# Define the Geometric distribution parameters\n",
    "p = 0.42\n",
    "\n",
    "# Generate random samples using the inversion method\n",
    "def geometric_inversion(p, size):\n",
    "    samples = []\n",
    "    for _ in range(size):\n",
    "        u = np.random.uniform(0, 1)\n",
    "        k = int(np.ceil(np.log(1 - u) / np.log(1 - p)))\n",
    "        samples.append(k)\n",
    "    return samples\n",
    "\n",
    "# Generate 1000 random samples from Geometric(0.42)\n",
    "sample_size = 1000\n",
    "geometric_samples = geometric_inversion(p, sample_size)\n",
    "\n",
    "# Plot the histogram of the generated samples\n",
    "plt.hist(geometric_samples, bins=np.arange(1, max(geometric_samples) + 2) - 0.5, density=True, rwidth=0.8, alpha=0.75)\n",
    "plt.xlabel(\"Value\")\n",
    "plt.ylabel(\"Probability\")\n",
    "plt.title(f\"Geometric({p}) Distribution\")\n",
    "plt.show()\n"
   ]
  },
  {
   "cell_type": "markdown",
   "metadata": {
    "id": "TRn55xOT9iU3"
   },
   "source": [
    "___\n",
    "**(c)** The p.d.f. of the random variable $X$ is given by\n",
    "\t$$\n",
    "\tf(x) =\n",
    "\t\\begin{cases}\n",
    "\t\te^{x-2} & \\text{for }0 \\leq x \\leq 2, \\\\\n",
    "\t\te^{-x} & \\text{for }x > 2, \\\\\n",
    "\t\t0 & \\text{otherwise,}\n",
    "\t\\end{cases}\"\n",
    "\t$$\n",
    "\tDescribe and implement an inversion algorithm to generate samples of $X$. Generate 1,000 samples and plot a histogram. Compare the histogram and the p.d.f.\n"
   ]
  },
  {
   "cell_type": "markdown",
   "metadata": {
    "id": "dNmGPdu8OaiK"
   },
   "source": [
    "___\n",
    "\n",
    "### Ans."
   ]
  },
  {
   "cell_type": "markdown",
   "metadata": {},
   "source": [
    "First, find the CDF of $f(x)$. Then, find the inverse of that. For a random variable $U \\sim U(0,1)$, $F^{-1}(U) = X $"
   ]
  },
  {
   "cell_type": "markdown",
   "metadata": {},
   "source": [
    "$F^{-1}(y) = \n",
    "\\begin{cases}\n",
    "\n",
    "$"
   ]
  },
  {
   "cell_type": "code",
   "execution_count": null,
   "metadata": {
    "id": "2bF1VUkGJEpI"
   },
   "outputs": [],
   "source": []
  },
  {
   "cell_type": "markdown",
   "metadata": {
    "id": "UqMEV_6i9iU4"
   },
   "source": [
    "___\n",
    "___\n",
    "\n",
    "## Question 3: Acceptance-Rejection (25 pts)\n",
    "\n",
    "Let the random variable $X$ have density\n",
    "$$f(x) = \\begin{cases} (5 x^4 + 4x^3 + 3x^2+1)/4  & \\text{ for } 0 \\leq x \\leq 1, \\\\\n",
    "0 & \\text{ otherwise. } \\end{cases}$$"
   ]
  },
  {
   "cell_type": "markdown",
   "metadata": {
    "id": "dNp6yFaQ9iU5"
   },
   "source": [
    "___\n",
    "**(a)** Give an acceptance-rejection algorithm to generate samples of\n",
    "\t$X$.\n",
    "\n",
    "___"
   ]
  },
  {
   "cell_type": "markdown",
   "metadata": {
    "id": "AKnYl0kLLd37"
   },
   "source": [
    "### Ans.\n"
   ]
  },
  {
   "cell_type": "code",
   "execution_count": 58,
   "metadata": {
    "id": "y1c8ExQxLdEB"
   },
   "outputs": [],
   "source": [
    "def f(x):\n",
    "    return (5*x**4 + 4*x**3 + 3*x**2 + 1)/4"
   ]
  },
  {
   "cell_type": "code",
   "execution_count": 59,
   "metadata": {},
   "outputs": [
    {
     "data": {
      "text/plain": [
       "3.25"
      ]
     },
     "execution_count": 59,
     "metadata": {},
     "output_type": "execute_result"
    }
   ],
   "source": [
    "f(1)"
   ]
  },
  {
   "cell_type": "code",
   "execution_count": 131,
   "metadata": {},
   "outputs": [],
   "source": [
    "accept = []\n",
    "for i in range(100):\n",
    "    u1 = np.random.rand()\n",
    "    u2 = np.random.rand()\n",
    "    \n",
    "    z1 = u1 \n",
    "    z2 = 3.25*u2\n",
    "    \n",
    "    if z2 <= f(z1):\n",
    "        accept.append(z1)"
   ]
  },
  {
   "cell_type": "markdown",
   "metadata": {
    "id": "96QbSXGn9iU8"
   },
   "source": [
    "___\n",
    "**(b)** On average, how many samples from the uniform distribution over $[0, 1]$ would your acceptance-rejection algorithm need in order to generate one sample of $X$?\n",
    "___"
   ]
  },
  {
   "cell_type": "code",
   "execution_count": 122,
   "metadata": {},
   "outputs": [
    {
     "data": {
      "text/plain": [
       "4"
      ]
     },
     "execution_count": 122,
     "metadata": {},
     "output_type": "execute_result"
    }
   ],
   "source": [
    "np.random.geometric(1/3.25)"
   ]
  },
  {
   "cell_type": "markdown",
   "metadata": {
    "id": "w64tpH0bO_Hb"
   },
   "source": [
    "### Ans.\n"
   ]
  },
  {
   "cell_type": "markdown",
   "metadata": {
    "id": "YudPqIiq9iU9"
   },
   "source": [
    "___\n",
    "**(c)** Use your algorithm in (a) to generate 2,500 samples of $X$. Note that this will require more than 2500 uniform random variables.\n",
    "\n",
    "Plot a histogram of your sample   and compare it against the true pdf.\n",
    "___\n"
   ]
  },
  {
   "cell_type": "code",
   "execution_count": 128,
   "metadata": {
    "id": "7-qoF2L_LmIF"
   },
   "outputs": [],
   "source": [
    "accept_c = []\n",
    "while True:\n",
    "    u1 = np.random.rand()\n",
    "    u2 = np.random.rand()\n",
    "    \n",
    "    z1 = u1 \n",
    "    z2 = 3.25*u2\n",
    "    \n",
    "    if z2 <= f(z1):\n",
    "        accept_c.append(z1)\n",
    "        \n",
    "    if len(accept_c) == 2500:\n",
    "        break\n"
   ]
  },
  {
   "cell_type": "code",
   "execution_count": 129,
   "metadata": {},
   "outputs": [],
   "source": [
    "f_x = []\n",
    "for i in accept_c:\n",
    "    f_x.append(f(i))"
   ]
  },
  {
   "cell_type": "code",
   "execution_count": 130,
   "metadata": {},
   "outputs": [
    {
     "data": {
      "text/plain": [
       "[<matplotlib.lines.Line2D at 0x7fce483be350>]"
      ]
     },
     "execution_count": 130,
     "metadata": {},
     "output_type": "execute_result"
    },
    {
     "data": {
      "image/png": "[encoded data removed]",
      "text/plain": [
       "<Figure size 432x288 with 1 Axes>"
      ]
     },
     "metadata": {
      "needs_background": "dark"
     },
     "output_type": "display_data"
    }
   ],
   "source": [
    "plt.plot(accept_c, f_x)\n",
    "\n",
    "x = np.linspace(0, 1)\n",
    "\n",
    "plt.plot(x, f(x), color='red')"
   ]
  },
  {
   "cell_type": "markdown",
   "metadata": {
    "id": "zI57JDhK9iU_"
   },
   "source": [
    "___\n",
    "___\n",
    "\n",
    "## Question 4: Generalized Acceptance-Rejection (30 pts)\n",
    "\n",
    "We want to generate a $\\mathcal{N}(0,1)$ rv $X$, with pdf\n",
    "$f(x) = \\frac{e^{-x^2/2}}{\\sqrt{2\\pi}} $,\n",
    "using generalized acceptance-rejection."
   ]
  },
  {
   "cell_type": "markdown",
   "metadata": {
    "id": "ycCxosPw9iVA"
   },
   "source": [
    "___\n",
    "\n",
    "**(a)** First, suppose we choose the proposal distribution to be a \\emph{Laplace} (i.e., two-sided Exponential) distribution, which has pdf $g(x) = e^{-|x|}/2$. Describe (and implement) an inversion algorithm to get samples from this distribution.\n",
    "___"
   ]
  },
  {
   "cell_type": "markdown",
   "metadata": {},
   "source": [
    "First, get the CDF of the fcn, find the inverse. Generate $\\mathcal{N}(0,1)$ rv, sample it into the inverse. "
   ]
  },
  {
   "cell_type": "markdown",
   "metadata": {},
   "source": [
    "### consulted chatgpt for initial code"
   ]
  },
  {
   "cell_type": "code",
   "execution_count": 132,
   "metadata": {
    "id": "iUMdO2jTDC5n"
   },
   "outputs": [
    {
     "name": "stdout",
     "output_type": "stream",
     "text": [
      "Laplace-distributed samples: [0.299769393310002, -1.0064621655067465, 1.8501739323839252, 0.4867908144647208, -0.6099416632449141, 0.29504595120643123, 2.216870020139539, -0.44309805201408464, 0.10234329466093563, -0.046402877233655326]\n"
     ]
    }
   ],
   "source": [
    "def generate_laplace_samples(size):\n",
    "    samples = []\n",
    "    for _ in range(size):\n",
    "        # Step 3: Generate a random value y from the uniform distribution [0, 1)\n",
    "        y = np.random.rand()\n",
    "        \n",
    "        # Step 4: Use the inverse CDF to transform y into a Laplace-distributed sample\n",
    "        if y < 0.5:\n",
    "            x = -np.log(2 * y)\n",
    "        else:\n",
    "            x = np.log(2 * (1 - y))\n",
    "        samples.append(x)\n",
    "    return samples\n",
    "\n",
    "# Example usage: Generate 10 Laplace-distributed samples\n",
    "laplace_samples = generate_laplace_samples(10)\n",
    "print(\"Laplace-distributed samples:\", laplace_samples)"
   ]
  },
  {
   "cell_type": "markdown",
   "metadata": {
    "id": "w5uME6KO9iVB"
   },
   "source": [
    "___\n",
    "**(b)** Determine the smallest $k$ such that $kg(x)\\geq f(x)\\,\\forall\\,x\\in\\mathbb{R}$. Using this, propose (and implement) an acceptance-rejection algorithm for sampling $X\\sim\\mathcal{N}(0,1)$, and compute the expected number of samples needed for generating each sample.\n",
    "___"
   ]
  },
  {
   "cell_type": "markdown",
   "metadata": {
    "id": "4Y-Qm3x-PbmM"
   },
   "source": [
    "### Ans."
   ]
  },
  {
   "cell_type": "code",
   "execution_count": 137,
   "metadata": {},
   "outputs": [
    {
     "name": "stdout",
     "output_type": "stream",
     "text": [
      "Average Number of Iterations: 0.313\n",
      "95% Confidence Interval for Number of Iterations: (0.2729548876331035, 0.3530451123668965)\n"
     ]
    },
    {
     "data": {
      "image/png": "[encoded data removed]",
      "text/plain": [
       "<Figure size 432x288 with 1 Axes>"
      ]
     },
     "metadata": {
      "needs_background": "dark"
     },
     "output_type": "display_data"
    }
   ],
   "source": [
    "import numpy as np\n",
    "import matplotlib.pyplot as plt\n",
    "from scipy import stats\n",
    "\n",
    "# Define the standard normal PDF f(x)\n",
    "def f(x):\n",
    "    return np.exp(-x**2/2) / np.sqrt(2 * np.pi)\n",
    "\n",
    "# Define the Cauchy PDF g(x)\n",
    "def g(x):\n",
    "    return 1 / (np.pi * (1 + x**2))\n",
    "\n",
    "# Calculate the constant k\n",
    "k = 1 / np.sqrt(2)\n",
    "\n",
    "# Generate samples from the standard normal distribution using acceptance-rejection\n",
    "def generate_standard_normal_samples(size):\n",
    "    samples = []\n",
    "    iterations = []  # To store the number of iterations for each sample\n",
    "    for _ in range(size):\n",
    "        num_iterations = 0\n",
    "        while True:\n",
    "            # Step 1: Generate a random value y from the Cauchy distribution\n",
    "            y = np.random.standard_cauchy()\n",
    "            \n",
    "            # Step 2: Generate a random number u from a uniform distribution [0, 1)\n",
    "            u = np.random.rand()\n",
    "            \n",
    "            # Step 3: Check the acceptance condition\n",
    "            if u <= f(y) / (k * g(y)):\n",
    "                samples.append(y)  # Accept y as a sample from N(0, 1)\n",
    "                iterations.append(num_iterations)\n",
    "                break\n",
    "            num_iterations += 1\n",
    "    return samples, iterations\n",
    "\n",
    "# Example usage: Generate 1000 standard normal samples and compute the expected number of iterations\n",
    "sample_size = 1000\n",
    "samples, iteration_counts = generate_standard_normal_samples(sample_size)\n",
    "\n",
    "# Calculate the average number of iterations and 95% confidence interval\n",
    "average_iterations = np.mean(iteration_counts)\n",
    "confidence_interval = stats.norm.interval(0.95, loc=average_iterations, scale=stats.sem(iteration_counts))\n",
    "\n",
    "print(\"Average Number of Iterations:\", average_iterations)\n",
    "print(\"95% Confidence Interval for Number of Iterations:\", confidence_interval)\n",
    "\n",
    "# Plot the histogram of the generated samples\n",
    "plt.hist(samples, bins=30, density=True, alpha=0.75)\n",
    "plt.xlabel(\"Value\")\n",
    "plt.ylabel(\"Probability Density\")\n",
    "plt.title(\"Histogram of Standard Normal Samples\")\n",
    "plt.show()\n"
   ]
  },
  {
   "cell_type": "markdown",
   "metadata": {
    "id": "8Uoi08eu9iVD"
   },
   "source": [
    "___\n",
    "**(c)** Generate $1000$ samples from your method in part (b), and plot the histogram of the samples. Also report the average and 95\\% CI for the number of $U[0,1]$ samples needed to generate the $1000$ samples.\n",
    "___"
   ]
  },
  {
   "cell_type": "code",
   "execution_count": 134,
   "metadata": {
    "id": "5qVDE0RTDMIZ"
   },
   "outputs": [
    {
     "data": {
      "image/png": "[encoded data removed]",
      "text/plain": [
       "<Figure size 432x288 with 1 Axes>"
      ]
     },
     "metadata": {
      "needs_background": "dark"
     },
     "output_type": "display_data"
    },
    {
     "name": "stdout",
     "output_type": "stream",
     "text": [
      "Average Number of Iterations: 0.082\n",
      "95% Confidence Interval for Number of Iterations: (0.06168968623349021, 0.1023103137665098)\n"
     ]
    }
   ],
   "source": [
    "import numpy as np\n",
    "import matplotlib.pyplot as plt\n",
    "from scipy import stats\n",
    "\n",
    "# Define the standard normal PDF f(x)\n",
    "def f(x):\n",
    "    return np.exp(-x**2/2) / np.sqrt(2 * np.pi)\n",
    "\n",
    "# Define the Laplace PDF g(x)\n",
    "def g(x):\n",
    "    return np.exp(-abs(x)) / 2\n",
    "\n",
    "# Calculate the constant k\n",
    "k = 2 * np.sqrt(1 / (2 * np.pi))\n",
    "\n",
    "# Generate samples from the standard normal distribution using acceptance-rejection\n",
    "def generate_standard_normal_samples(size):\n",
    "    samples = []\n",
    "    iterations = []  # To store the number of iterations for each sample\n",
    "    for _ in range(size):\n",
    "        num_iterations = 0\n",
    "        while True:\n",
    "            # Step 1: Generate a random value y from the Laplace distribution\n",
    "            y = np.random.laplace(0, 1)\n",
    "            \n",
    "            # Step 2: Generate a random number u from a uniform distribution [0, 1)\n",
    "            u = np.random.rand()\n",
    "            \n",
    "            # Step 3: Check the acceptance condition\n",
    "            if u <= f(y) / (k * g(y)):\n",
    "                samples.append(y)  # Accept y as a sample from N(0, 1)\n",
    "                iterations.append(num_iterations)\n",
    "                break\n",
    "            num_iterations += 1\n",
    "    return samples, iterations\n",
    "\n",
    "# Generate 1000 standard normal samples and obtain the number of iterations for each\n",
    "sample_size = 1000\n",
    "samples, iteration_counts = generate_standard_normal_samples(sample_size)\n",
    "\n",
    "# Plot the histogram of the generated samples\n",
    "plt.hist(samples, bins=30, density=True, alpha=0.75)\n",
    "plt.xlabel(\"Value\")\n",
    "plt.ylabel(\"Probability Density\")\n",
    "plt.title(\"Histogram of Standard Normal Samples\")\n",
    "plt.show()\n",
    "\n",
    "# Calculate the average number of iterations and 95% confidence interval\n",
    "average_iterations = np.mean(iteration_counts)\n",
    "confidence_interval = stats.norm.interval(0.95, loc=average_iterations, scale=stats.sem(iteration_counts))\n",
    "\n",
    "print(\"Average Number of Iterations:\", average_iterations)\n",
    "print(\"95% Confidence Interval for Number of Iterations:\", confidence_interval)\n"
   ]
  },
  {
   "cell_type": "markdown",
   "metadata": {
    "id": "s7pvcQl7pgbx"
   },
   "source": [
    "___\n",
    "**(d)** Now, suppose instead we choose the proposal distribution to be a Cauchy  distribution with pdf $g(x) = \\frac{1}{\\pi(1+x^2)}$. Describe and implement an inversion algorithm to get samples from this distribution, and plot the histogram of 1000 samples from this distribution.\n",
    "___"
   ]
  },
  {
   "cell_type": "code",
   "execution_count": 135,
   "metadata": {
    "id": "XepRuz8MpqoG"
   },
   "outputs": [
    {
     "data": {
      "image/png": "[encoded data removed]",
      "text/plain": [
       "<Figure size 432x288 with 1 Axes>"
      ]
     },
     "metadata": {
      "needs_background": "dark"
     },
     "output_type": "display_data"
    }
   ],
   "source": [
    "import numpy as np\n",
    "import matplotlib.pyplot as plt\n",
    "\n",
    "# Generate Cauchy-distributed samples using inversion method\n",
    "def generate_cauchy_samples(size):\n",
    "    samples = []\n",
    "    for _ in range(size):\n",
    "        # Step 3: Generate a random value y from the uniform distribution [0, 1)\n",
    "        y = np.random.rand()\n",
    "        \n",
    "        # Step 4: Use the inverse CDF to transform y into a Cauchy-distributed sample\n",
    "        x = np.tan(np.pi * (y - 0.5))\n",
    "        samples.append(x)\n",
    "    return samples\n",
    "\n",
    "# Example usage: Generate 1000 Cauchy-distributed samples\n",
    "sample_size = 1000\n",
    "cauchy_samples = generate_cauchy_samples(sample_size)\n",
    "\n",
    "# Plot the histogram of the generated samples\n",
    "plt.hist(cauchy_samples, bins=30, density=True, alpha=0.75)\n",
    "plt.xlabel(\"Value\")\n",
    "plt.ylabel(\"Probability Density\")\n",
    "plt.title(\"Histogram of Cauchy-Distributed Samples\")\n",
    "plt.show()\n"
   ]
  },
  {
   "cell_type": "markdown",
   "metadata": {
    "id": "lC7VSz_n9iVF"
   },
   "source": [
    "___\n",
    "**(e)** Repeat parts $(b)$ and $(c)$ for this proposal distribution.\n",
    "___"
   ]
  },
  {
   "cell_type": "markdown",
   "metadata": {
    "id": "vFu541LlPzQ2"
   },
   "source": [
    "### Ans."
   ]
  },
  {
   "cell_type": "code",
   "execution_count": 136,
   "metadata": {
    "id": "uzJE8B1ZsWoV"
   },
   "outputs": [
    {
     "name": "stdout",
     "output_type": "stream",
     "text": [
      "Average Number of Iterations: 0.315\n",
      "95% Confidence Interval for Number of Iterations: (0.2757921378228869, 0.3542078621771131)\n"
     ]
    }
   ],
   "source": [
    "import numpy as np\n",
    "\n",
    "# Define the standard normal PDF f(x)\n",
    "def f(x):\n",
    "    return np.exp(-x**2/2) / np.sqrt(2 * np.pi)\n",
    "\n",
    "# Define the Cauchy PDF g(x)\n",
    "def g(x):\n",
    "    return 1 / (np.pi * (1 + x**2))\n",
    "\n",
    "# Calculate the constant k\n",
    "k = np.sqrt(2) / np.sqrt(np.pi)\n",
    "\n",
    "# Generate samples from the standard normal distribution using acceptance-rejection\n",
    "def generate_standard_normal_samples(size):\n",
    "    samples = []\n",
    "    iterations = []  # To store the number of iterations for each sample\n",
    "    for _ in range(size):\n",
    "        num_iterations = 0\n",
    "        while True:\n",
    "            # Step 1: Generate a random value y from the Cauchy distribution\n",
    "            y = np.random.standard_cauchy()\n",
    "            \n",
    "            # Step 2: Generate a random number u from a uniform distribution [0, 1)\n",
    "            u = np.random.rand()\n",
    "            \n",
    "            # Step 3: Check the acceptance condition\n",
    "            if u <= f(y) / (k * g(y)):\n",
    "                samples.append(y)  # Accept y as a sample from N(0, 1)\n",
    "                iterations.append(num_iterations)\n",
    "                break\n",
    "            num_iterations += 1\n",
    "    return samples, iterations\n",
    "\n",
    "# Example usage: Generate 1000 standard normal samples and compute the expected number of iterations\n",
    "sample_size = 1000\n",
    "samples, iteration_counts = generate_standard_normal_samples(sample_size)\n",
    "\n",
    "# Calculate the average number of iterations and 95% confidence interval\n",
    "average_iterations = np.mean(iteration_counts)\n",
    "confidence_interval = stats.norm.interval(0.95, loc=average_iterations, scale=stats.sem(iteration_counts))\n",
    "\n",
    "print(\"Average Number of Iterations:\", average_iterations)\n",
    "print(\"95% Confidence Interval for Number of Iterations:\", confidence_interval)\n"
   ]
  },
  {
   "cell_type": "code",
   "execution_count": null,
   "metadata": {},
   "outputs": [],
   "source": []
  }
 ],
 "metadata": {
  "colab": {
   "provenance": []
  },
  "kernelspec": {
   "display_name": "Python 3",
   "language": "python",
   "name": "python3"
  },
  "language_info": {
   "codemirror_mode": {
    "name": "ipython",
    "version": 3
   },
   "file_extension": ".py",
   "mimetype": "text/x-python",
   "name": "python",
   "nbconvert_exporter": "python",
   "pygments_lexer": "ipython3",
   "version": "3.7.4"
  }
 },
 "nbformat": 4,
 "nbformat_minor": 1
}
