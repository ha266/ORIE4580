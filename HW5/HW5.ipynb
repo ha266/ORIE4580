{
 "cells": [
  {
   "cell_type": "markdown",
   "metadata": {
    "id": "yEYDm_ICb4GC"
   },
   "source": [
    "# ORIE 4580/5580/5581 Assignment 5\n",
    "\n",
    "#### Students: S. Ulam (su001) and J. von Neuman (jvn001)\n",
    "\n",
    "### Github link: [example Github link](https://github.com/SidBanerjee/ORIE4580-Simulation/blob/main/Notebooks/Unit0-Intro_Demos.ipynb)\n"
   ]
  },
  {
   "cell_type": "markdown",
   "metadata": {
    "id": "l3G_wUFRg9v6"
   },
   "source": [
    "### Instructions\n",
    "\n",
    "\n",
    "* Due Friday, October 13, at 11.59am on Gradescope.\n",
    "* Assignment .ipynb files available for download on [Canvas](https://canvas.cornell.edu/courses/56826#:~:text=Assignments-,Assignments,-Assignments%20Module%20publish). Do all your work in provided notebook (text answers typeset in markdown; show all required code and generate plots inline), and then generate and submit a pdf.\n",
    "* Ideally do assignments in groups of 2, and submit a single pdf with both names\n",
    "* Please show your work and clearly mark your answers.\n",
    "* You can use any code fragments given in class, found online (for example, on StackOverflow), or generated via Bard or ChatGPT (you are encouraged to use these for first drafts) **with proper referencing**. You can also discuss with others (again, please reference them if you do so); but you must write your final answers on your own as a team.\n",
    "\n",
    "\n",
    "\n",
    "### Suggested reading\n",
    "\n",
    "Chapters 8 (all parts) and 9 (up to Section 9.2 for the midterm) of [Simulation by Ross](https://catalog.library.cornell.edu/catalog/12745977)."
   ]
  },
  {
   "cell_type": "markdown",
   "metadata": {
    "id": "5AMJpIgg0AUP"
   },
   "source": [
    "\n",
    "\n",
    "\n",
    "---\n",
    "---\n",
    "\n",
    "\n",
    "# Question 1: Red-Tailed Hawks! (15 points)\n",
    "\n",
    "(Dedicated to [Big Red and Arthur](https://www.youtube.com/watch?v=diIn5tc8AJo), and their amazing family!)\n",
    "\n",
    "A School of Ornithology researcher wants to estimate the number of red-tailed hawks in Ithaca. She radio tags 10 birds, and then sets up a feeding station with automatic camera.\n",
    "\n",
    "The researcher believes that each individual bird's visits to the feeder can be modeled as a *Poisson process* with some unknown rate $\\lambda$; we will talk more about the Poisson process in detail later in the semester (for a quick refresher, see Section 2.9.4 of Ross), but for this question, the main thing you need to know is that this is a process that counts a discrete number of arrivals, where the *inter-arrival* between one arrival and the next is independent and identically distributed as an Exponential$(\\lambda)$ random variable (similar to the trains in question 5b in the previous assignment).\n",
    "\n",
    "**(a)**\n",
    "Over the first five weeks, the researcher observes an average of 28.8 birds (tagged and untagged) visiting the feeder, with an average of 6 tagged birds per week. Use the method of moments to obtain an estimate for the total population."
   ]
  },
  {
   "cell_type": "markdown",
   "metadata": {
    "id": "FdZFPY8J00Nz"
   },
   "source": [
    "___\n",
    "## Ans.\n"
   ]
  },
  {
   "cell_type": "markdown",
   "metadata": {
    "id": "kHPnqRj105lL"
   },
   "source": [
    "___\n",
    "\n",
    "**(b)** Next, the researcher develops a video processing program which can identify and distinguish different individual birds from their pictures. Using this, over the next week, she observes 20 unique birds visiting the feeding station, out of which 4 are tagged. What is the MLE for the size of the hawk population in Ithaca?\n",
    "\n",
    "___"
   ]
  },
  {
   "cell_type": "markdown",
   "metadata": {
    "id": "o-b5c59b2CV-"
   },
   "source": [
    "## Ans.\n",
    "\n"
   ]
  },
  {
   "cell_type": "code",
   "execution_count": null,
   "metadata": {
    "id": "mT-3ogKx2Hzl"
   },
   "outputs": [],
   "source": []
  },
  {
   "cell_type": "markdown",
   "metadata": {
    "id": "YX0Mw-EVb4GE"
   },
   "source": [
    "___\n",
    "___\n",
    "\n",
    "# Question 2: Soup for Lunch? (15 points)\n",
    "\n",
    "The folks at the [Temple of Zeus](https://as.cornell.edu/about/temple-of-zeus) have the best soup offerings at Cornell -- however, by the time you are done with Simulation, they often run out of soup. To remedy this, you want to try and understand the demand for soup, so that you can suggest how much they should make. You decide to model the total demand $N$ for soups each day as a geometric random variable with parameter $p$ (i.e., $P(N = k) = (1-p)^kp$, $k \\ge 0$).\n",
    "\n",
    "The Temple of Zeus manager gives you data for the number of lunches sold in the last $100$ days. One problem though is that the data is *censored*: the staff prepared soup for at most $40$ servings each day, and as a result, the number of sales each day is between 0 and 40. As a result, on days when the number of soups sold is $40$, you cannot be sure what the true demand $N_i$ was (but you know $N_i\\geq 40$); on other days, the number of soups sold is the true demand $N_i<40$."
   ]
  },
  {
   "cell_type": "markdown",
   "metadata": {
    "id": "Yjy3dHqpb4GF"
   },
   "source": [
    "___\n",
    "\n",
    "**(a)**\n",
    "What is the probability mass function of the per-day sales $Y$ in terms of $p$?\n",
    "___\n"
   ]
  },
  {
   "cell_type": "markdown",
   "metadata": {
    "id": "wOQnI769b4GF"
   },
   "source": [
    "## Ans.\n",
    "\n",
    "\n",
    "P(Y = y) = \\begin{cases}\n",
    "(1 - p)^{y-1} \\cdot p & \\text{if } y < 40 \\\\\n",
    "1 - (1 - p)^{40} & \\text{if } y = 40 \\\\\n",
    "0 & \\text{if } y > 40\n",
    "\\end{cases}\n",
    "\n"
   ]
  },
  {
   "cell_type": "markdown",
   "metadata": {
    "id": "DRpHC9hbb4GF"
   },
   "source": [
    "___\n",
    "\n",
    "**(b)** Compute a maximum likelihood estimator of $p$ based on the sales data for soup given in `Soup_sales_data.csv`.\n",
    "___"
   ]
  },
  {
   "cell_type": "markdown",
   "metadata": {
    "id": "1khe5-56b4GF"
   },
   "source": [
    "## Ans.\n"
   ]
  },
  {
   "cell_type": "code",
   "execution_count": 1,
   "metadata": {
    "id": "00N4KuJqlEHf"
   },
   "outputs": [],
   "source": [
    "import pandas as pd\n",
    "import numpy as np"
   ]
  },
  {
   "cell_type": "code",
   "execution_count": 2,
   "metadata": {},
   "outputs": [],
   "source": [
    "x = pd.read_csv('Soup_sales_data.csv')"
   ]
  },
  {
   "cell_type": "code",
   "execution_count": 11,
   "metadata": {},
   "outputs": [
    {
     "name": "stdout",
     "output_type": "stream",
     "text": [
      "The MLE for p is 0.04171881518564873\n"
     ]
    }
   ],
   "source": [
    "print('The MLE for p is '+ str(1/x['Y'].mean()))"
   ]
  },
  {
   "cell_type": "markdown",
   "metadata": {
    "id": "Lh-UW13FuhSQ"
   },
   "source": [
    "___\n",
    "___\n",
    "\n",
    "# Question 3: The Birthday Paradox (40 pts)\n",
    "\n",
    "In this question, we investigate the celebrated [birthday paradox](https://en.wikipedia.org/wiki/Birthday_problem)!"
   ]
  },
  {
   "cell_type": "markdown",
   "metadata": {
    "id": "yc0A7WxsuyEy"
   },
   "source": [
    "___\n",
    "\n",
    "**(a)** The basic question you may have seen in earlier probability courses is the following: given a party of $n$ people whose birthdays are drawn uniformly over the $365$ days in the year, what is the probability that at least two people share a birthday. Derive an expression for the probability, and plot it for $n\\in\\{10,11,12,\\ldots,49,50\\}$.\n",
    "___"
   ]
  },
  {
   "cell_type": "markdown",
   "metadata": {
    "id": "EGsUT8JvwI-7"
   },
   "source": [
    "## Ans."
   ]
  },
  {
   "cell_type": "markdown",
   "metadata": {},
   "source": [
    "$P(\\text{2 ppl have the same birthday out of n ppl}) = 1 - \\frac{364}{365}^{n(n-1)/2}$"
   ]
  },
  {
   "cell_type": "code",
   "execution_count": 20,
   "metadata": {
    "id": "CGZf5O0Kx9Ws"
   },
   "outputs": [
    {
     "data": {
      "text/plain": [
       "[<matplotlib.lines.Line2D at 0x7f8481a1ed50>]"
      ]
     },
     "execution_count": 20,
     "metadata": {},
     "output_type": "execute_result"
    },
    {
     "data": {
      "image/png": "[encoded data removed]",
      "text/plain": [
       "<Figure size 432x288 with 1 Axes>"
      ]
     },
     "metadata": {
      "needs_background": "light"
     },
     "output_type": "display_data"
    }
   ],
   "source": [
    "import matplotlib.pyplot as plt\n",
    "\n",
    "n = []\n",
    "p = []\n",
    "\n",
    "for num in range(10, 51):\n",
    "    prob = 1 - ((364/365)**(num*(num-1)/2))\n",
    "    n.append(num)\n",
    "    p.append(prob)\n",
    "    \n",
    "plt.plot(n, p)"
   ]
  },
  {
   "cell_type": "markdown",
   "metadata": {
    "id": "QhBwTPrLwKhV"
   },
   "source": [
    "___\n",
    "**(b)** Next, we want to obtain the above probabilities by simulation. For a given $n$, perform simulations so as to estimate the probability  of at least two people sharing birthdays in a group of $n$, for $n\\in\\{15,16,\\ldots,30\\}$, up to $2$ decimal places (with $95\\%$ confidence). Plot the estimates and $95\\%$ CI, and also plot the theoretical result from part $(a)$ in the same plot.\n",
    "___"
   ]
  },
  {
   "cell_type": "markdown",
   "metadata": {
    "id": "_u8ikVrMx664"
   },
   "source": [
    "## Ans."
   ]
  },
  {
   "cell_type": "markdown",
   "metadata": {},
   "source": [
    "from demo notebook 4"
   ]
  },
  {
   "cell_type": "code",
   "execution_count": 21,
   "metadata": {
    "id": "L9gMbHO2x8cT"
   },
   "outputs": [],
   "source": [
    "def plot_mean_and_ci(fig, data, alpha=0.95, plotCI=1):\n",
    "    \"\"\"\n",
    "    Plot the mean and confidence interval (CI) for a dataset.\n",
    "\n",
    "    Parameters:\n",
    "    fig (matplotlib.figure.Figure): The figure object to draw on.\n",
    "    data (numpy.ndarray): The dataset for which to calculate the mean and CI.\n",
    "    alpha (float): The confidence level (e.g., 0.95 for a 95% CI).\n",
    "    plotCI (int): Whether to plot the confidence interval (1 for yes, 0 for no).\n",
    "\n",
    "    Returns:\n",
    "    tuple: A tuple containing the mean and half-width of the CI.\n",
    "    \"\"\"\n",
    "    mean = np.mean(data)\n",
    "\n",
    "    # Calculate the z-score for the given confidence level alpha\n",
    "    z = stats.norm.ppf(0.5 + alpha / 2.0)\n",
    "\n",
    "    # Calculate the half-width of the CI\n",
    "    half_width_alpha = z * np.std(data, ddof=1) / np.sqrt(len(data))\n",
    "\n",
    "    # Calculate the upper and lower bounds of the CI\n",
    "    ucb = mean + half_width_alpha\n",
    "    lcb = mean - half_width_alpha\n",
    "\n",
    "    # Plot the sample mean as a green vertical line\n",
    "    plt.axvline(mean, color='g', label='sample mean', lw=2)\n",
    "\n",
    "    # Plot the confidence interval as a yellow shaded region\n",
    "    if plotCI:\n",
    "        plt.axvspan(lcb, ucb, alpha=0.5, color='y', label=f'{int(alpha*100)}% confidence interval')\n",
    "\n",
    "    return mean, half_width_alpha"
   ]
  },
  {
   "cell_type": "code",
   "execution_count": null,
   "metadata": {},
   "outputs": [],
   "source": []
  },
  {
   "cell_type": "code",
   "execution_count": null,
   "metadata": {},
   "outputs": [],
   "source": [
    "fig = plt.figure(figsize=(15,8))\n",
    "\n",
    "n = 15 \n",
    "birthday = []\n",
    "for i in range(n):\n",
    "    b = np.random.randint(1, 366)\n",
    "    birthday.append(b)"
   ]
  },
  {
   "cell_type": "markdown",
   "metadata": {
    "id": "fT4Jt0Inx99q"
   },
   "source": [
    "\n",
    "\n",
    "---\n",
    "\n",
    "**(c)** One flaw in our analysis is that birth-dates may not be uniformly distributed throughout the year. To check this, we can look at data of real birth-dates.\n",
    "\n",
    "The file `bdaydata.txt` has a list of $365$ days in the year (excluding February $29$) and the corresponding number of birthdays on that date. Load the dataset and plot the following:\n",
    "\n",
    "i. Empirical histogram of the data\n",
    "\n",
    "ii. Empirical cdf\n",
    "\n",
    "iii. Q-Q plot comparing the data to a uniform distribution\n",
    "\n",
    "(Dataset based on life insurance data from 1981-94; data and example courtesy [Roy Murphy](http://www.panix.com/~murphy/bday.html).)\n",
    "___"
   ]
  },
  {
   "cell_type": "markdown",
   "metadata": {
    "id": "g4c_Csc_ywpw"
   },
   "source": [
    "## Ans."
   ]
  },
  {
   "cell_type": "code",
   "execution_count": 32,
   "metadata": {
    "id": "NkcHgFB4yy41"
   },
   "outputs": [],
   "source": [
    "# For loading the data, you can use \"df = pd.read_csv('bdaydata.txt',sep=' ')\"\n",
    "# Please note that the txt file needs to be placed in the same folder with the ipynb file.\n",
    "# To extract the counts column as a vector, use \"df.values[:,1]\"\n",
    "\n",
    "df = pd.read_csv('bdaydata.txt',sep=' ')"
   ]
  },
  {
   "cell_type": "markdown",
   "metadata": {},
   "source": [
    "empirical histogram"
   ]
  },
  {
   "cell_type": "code",
   "execution_count": 95,
   "metadata": {},
   "outputs": [],
   "source": [
    "cnt = df.values[:,1]"
   ]
  },
  {
   "cell_type": "code",
   "execution_count": 60,
   "metadata": {},
   "outputs": [],
   "source": [
    "dates = [i for i in range(0, 365)]"
   ]
  },
  {
   "cell_type": "code",
   "execution_count": 133,
   "metadata": {
    "scrolled": true
   },
   "outputs": [
    {
     "data": {
      "text/plain": [
       "(array([0.00021513, 0.00010756, 0.00096808, 0.00204372, 0.00387231,\n",
       "        0.00484039, 0.00559334, 0.00580847, 0.00516309, 0.00354962,\n",
       "        0.00258154, 0.00193616, 0.00129077, 0.00086051, 0.00021513,\n",
       "        0.00010756, 0.00010756]),\n",
       " array([1126.        , 1151.47058824, 1176.94117647, 1202.41176471,\n",
       "        1227.88235294, 1253.35294118, 1278.82352941, 1304.29411765,\n",
       "        1329.76470588, 1355.23529412, 1380.70588235, 1406.17647059,\n",
       "        1431.64705882, 1457.11764706, 1482.58823529, 1508.05882353,\n",
       "        1533.52941176, 1559.        ]),\n",
       " <BarContainer object of 17 artists>)"
      ]
     },
     "execution_count": 133,
     "metadata": {},
     "output_type": "execute_result"
    },
    {
     "data": {
      "image/png": "[encoded data removed]",
      "text/plain": [
       "<Figure size 432x288 with 1 Axes>"
      ]
     },
     "metadata": {
      "needs_background": "light"
     },
     "output_type": "display_data"
    }
   ],
   "source": [
    "plt.hist(cnt, bins='auto', density=True)"
   ]
  },
  {
   "cell_type": "markdown",
   "metadata": {},
   "source": [
    "empirical cdf"
   ]
  },
  {
   "cell_type": "markdown",
   "metadata": {},
   "source": [
    "from demo notebook 7"
   ]
  },
  {
   "cell_type": "code",
   "execution_count": 93,
   "metadata": {},
   "outputs": [],
   "source": [
    "def emp_cdf(x, cont_corr=True):\n",
    "    \"\"\"\n",
    "    Calculate the empirical cumulative distribution function (CDF) of a dataset.\n",
    "\n",
    "    Parameters:\n",
    "    x (array-like): The dataset for which to calculate the empirical CDF.\n",
    "    cont_corr (bool, optional): Whether to apply continuity correction. Default is True.\n",
    "\n",
    "    Returns:\n",
    "    tuple: A tuple containing two arrays: the sorted dataset and the empirical CDF.\n",
    "    \"\"\"\n",
    "    n = len(x)\n",
    "    x_sort = np.sort(x)\n",
    "\n",
    "    if cont_corr:\n",
    "        # Apply continuity correction\n",
    "        cdf = (np.arange(1, n + 1) - 0.5) / n\n",
    "    else:\n",
    "        # No continuity correction\n",
    "        cdf = (1.0 * np.arange(1, n + 1)) / n\n",
    "\n",
    "    return x_sort, cdf\n"
   ]
  },
  {
   "cell_type": "code",
   "execution_count": 101,
   "metadata": {},
   "outputs": [
    {
     "data": {
      "text/plain": [
       "[<matplotlib.lines.Line2D at 0x7f8438148850>]"
      ]
     },
     "execution_count": 101,
     "metadata": {},
     "output_type": "execute_result"
    },
    {
     "data": {
      "image/png": "[encoded data removed]",
      "text/plain": [
       "<Figure size 432x288 with 1 Axes>"
      ]
     },
     "metadata": {
      "needs_background": "light"
     },
     "output_type": "display_data"
    }
   ],
   "source": [
    "sort, cdf = emp_cdf(cnt)\n",
    "plt.plot(sort, cdf, 'co', label='Empirical cdf', linestyle='--', drawstyle='steps')\n"
   ]
  },
  {
   "cell_type": "markdown",
   "metadata": {},
   "source": [
    "Q-Q plot"
   ]
  },
  {
   "cell_type": "code",
   "execution_count": 114,
   "metadata": {},
   "outputs": [],
   "source": [
    "from scipy.stats import expon, foldnorm, norm, uniform"
   ]
  },
  {
   "cell_type": "code",
   "execution_count": 104,
   "metadata": {},
   "outputs": [],
   "source": [
    "emp_mean = np.mean(cnt)\n",
    "emp_stddev = np.std(cnt)"
   ]
  },
  {
   "cell_type": "code",
   "execution_count": 115,
   "metadata": {},
   "outputs": [
    {
     "data": {
      "image/png": "[encoded data removed]",
      "text/plain": [
       "<Figure size 1152x576 with 1 Axes>"
      ]
     },
     "metadata": {
      "needs_background": "light"
     },
     "output_type": "display_data"
    }
   ],
   "source": [
    "# Create a figure with two subplots\n",
    "fig = plt.figure(figsize=(16, 8))\n",
    "\n",
    "# Subplot 1: Q-Q plot for the normal distribution fit\n",
    "ax = fig.add_subplot(1, 2, 1)\n",
    "\n",
    "# Calculate the quantiles of the empirical CDF based on the normal distribution fit\n",
    "cdf_1 = uniform.ppf(cdf, loc=emp_mean, scale=emp_stddev)\n",
    "\n",
    "# Plot the quantiles against the theoretical quantiles (a straight line)\n",
    "plt.plot(cnt, cdf_1, 'o')  # Points in the Q-Q plot\n",
    "plt.plot(cnt, cnt, ':m', linewidth=3)  # Theoretical quantiles as a magenta dotted line\n",
    "\n",
    "plt.title(\"Q-Q plot for uniform dist fit\")\n",
    "\n",
    "plt.show()\n"
   ]
  },
  {
   "cell_type": "markdown",
   "metadata": {
    "id": "4983wTTlkaG0"
   },
   "source": [
    "___\n",
    "\n",
    "**(d)** Perform a Chi-square Test **and** a Kolmogorov-Smirnov Test to study how well the data is modeled by a uniform distribution.\n",
    "\n",
    "___"
   ]
  },
  {
   "cell_type": "markdown",
   "metadata": {
    "id": "0dWUUfznkl5k"
   },
   "source": [
    "## Ans.\n"
   ]
  },
  {
   "cell_type": "markdown",
   "metadata": {},
   "source": [
    "chi-square"
   ]
  },
  {
   "cell_type": "code",
   "execution_count": 113,
   "metadata": {
    "id": "F3XLVod3kuIc"
   },
   "outputs": [
    {
     "name": "stdout",
     "output_type": "stream",
     "text": [
      "Power_divergenceResult(statistic=1352.7233599950073, pvalue=6.458828561507727e-114)\n"
     ]
    }
   ],
   "source": [
    "from scipy.stats import chisquare\n",
    "chi_sq_result = chisquare(cnt,ddof=1)\n",
    "print(chi_sq_result)"
   ]
  },
  {
   "cell_type": "markdown",
   "metadata": {},
   "source": [
    "Kolmogorov-Smirnov"
   ]
  },
  {
   "cell_type": "code",
   "execution_count": 118,
   "metadata": {},
   "outputs": [
    {
     "data": {
      "text/plain": [
       "KstestResult(statistic=0.7621464409043381, pvalue=9.545716624789697e-222)"
      ]
     },
     "execution_count": 118,
     "metadata": {},
     "output_type": "execute_result"
    }
   ],
   "source": [
    "from scipy.stats import kstest\n",
    "kstest(cnt,\"uniform\",args=(min(cnt), max(cnt)))"
   ]
  },
  {
   "cell_type": "markdown",
   "metadata": {
    "id": "ga-5b3SSkoKp"
   },
   "source": [
    "___\n",
    "\n",
    "**(e)** Since you have an extensive dataset of birthday frequency, you can directly use the nonparametric bootstrap to estimate the probability of at least two people sharing birthdays in a group of $n$. Plot the bootstrap estimate and $95\\%$ CI for $n\\in\\{15,16,\\ldots,30\\}$, and compare against the plot in part $(b)$.\n",
    "\n",
    "___"
   ]
  },
  {
   "cell_type": "markdown",
   "metadata": {
    "id": "puJK5Zkio3RD"
   },
   "source": [
    "## Ans.\n"
   ]
  },
  {
   "cell_type": "code",
   "execution_count": null,
   "metadata": {},
   "outputs": [],
   "source": []
  },
  {
   "cell_type": "code",
   "execution_count": 119,
   "metadata": {
    "id": "_Th2tmBoo5Lh"
   },
   "outputs": [
    {
     "name": "stdout",
     "output_type": "stream",
     "text": [
      "Sample mean and standard deviation are 1317.03 and 69.864\n",
      "\n",
      "Bootstrap mean and standard deviation are 1311.06 and 78.618\n",
      "\n"
     ]
    },
    {
     "data": {
      "image/png": "[encoded data removed]",
      "text/plain": [
       "<Figure size 720x576 with 1 Axes>"
      ]
     },
     "metadata": {
      "needs_background": "light"
     },
     "output_type": "display_data"
    }
   ],
   "source": [
    "# Parameters\n",
    "n = len(cnt)  # Size of the dataset\n",
    "b = 50      # Number of bootstrap samples\n",
    "cmap=plt.get_cmap('Set3')\n",
    "\n",
    "# Generate bootstrap samples by randomly sampling from the original dataset X\n",
    "X_b = np.random.choice(cnt, b)\n",
    "\n",
    "# Create a figure for plotting\n",
    "plt.figure(figsize=[10, 8])\n",
    "\n",
    "# Calculate the mean and std-dev of the original dataset and the bootstrap samples\n",
    "mean = np.mean(cnt)\n",
    "sample_std = np.std(cnt)\n",
    "bst_mean = np.mean(X_b)\n",
    "bst_std = np.std(X_b,ddof=1)\n",
    "\n",
    "# Plot vertical lines for the sample mean and bootstrap mean\n",
    "plt.axvline(mean, color=cmap(9), label='Sample mean')\n",
    "plt.axvline(bst_mean, color=cmap(5), label='Bootstrap mean')\n",
    "\n",
    "# Create histograms for the original dataset and bootstrap samples\n",
    "n_tmp, bins, patches = plt.hist(cnt, bins=365, alpha=0.5, density=True, label='Empirical histogram', color=cmap(3))\n",
    "plt.hist(X_b, bins, alpha=0.5, density=True, label='Bootstrap histogram', color=cmap(4))\n",
    "\n",
    "# Compute and print the bootstrap mean and standard deviation\n",
    "print(\"Sample mean and standard deviation are \"+str(round(mean,2))+\" and \"+str(round(sample_std,3))+'\\n')\n",
    "print(\"Bootstrap mean and standard deviation are \"+str(round(bst_mean,2))+\" and \"+str(round(bst_std,3))+'\\n')\n",
    "\n",
    "\n",
    "# Add a legend to the plot\n",
    "plt.legend(loc=1)\n",
    "\n",
    "# Show the plot\n",
    "plt.show()"
   ]
  },
  {
   "cell_type": "markdown",
   "metadata": {
    "id": "FJhVnfbFb4GI"
   },
   "source": [
    "___\n",
    "___\n",
    "\n",
    "# Question 4: Benford's Law (30 pts)\n",
    "\n",
    "In this question, we will use the Chi-square test to study *Benford's law* in a variety of setttings. Consider a data set consisting of $n$ different numbers, and look at the leading digit of each number (for example, the leading digit of $123.456$ is $1$, and the leading digit of $-0.423$ is $4$). For many data sets, the fraction of leading digits that equal $1$ is much higher than $1/9$ (i.e., what it would be if uniformlly distributed); in fact, the probability distribution of the different leading digits $1, 2, \\ldots, 9$ is far from uniform.\n",
    "\n",
    "This observation has been observed to hold in measurements of distances to galaxies, numbers appearing in tax forms and many other settings, and has been used to detect fraud among other uses. See [the Wikipedia page](https://en.wikipedia.org/wiki/Benford\\%27s_law) for a description of this phenomena, and [this blog post](https://terrytao.wordpress.com/2009/07/03/benfords-law-zipfs-law-and-the-pareto-distribution/) for an interesting related discussion. More recently, this has also been (supposedly) misused in (supposedly) detecting (supposed) fraud in election results -- see [this Stand-Up Maths](https://www.youtube.com/watch?v=etx0k1nLn78&t=4s) video for a great example of how data analysis should be done!\n",
    "\n"
   ]
  },
  {
   "cell_type": "markdown",
   "metadata": {
    "id": "xCLoBig-b4GI"
   },
   "source": [
    "___\n",
    "\n",
    "**(a)** First, we will study this phenomena in a *synthetic* dataset. For this, compute the first digits of $n!$ for the first $1500$ integers, and plot their empirical histogram. You can use the code fragment provided to generate the first $n$ factorials.\n",
    "___\n"
   ]
  },
  {
   "cell_type": "markdown",
   "metadata": {
    "id": "YljDZzRgp_G8"
   },
   "source": [
    "## Ans."
   ]
  },
  {
   "cell_type": "code",
   "execution_count": 124,
   "metadata": {
    "id": "77FZ8tmCb4GI"
   },
   "outputs": [],
   "source": [
    "from scipy.special import factorial\n",
    "\n",
    "n = 1500\n",
    "\n",
    "fact_series = factorial(np.arange(n),exact=True)\n",
    "first_digit = np.zeros(n)\n",
    "for i in range(n):\n",
    "    first_digit[i] = int(str(fact_series[i])[0])"
   ]
  },
  {
   "cell_type": "code",
   "execution_count": 130,
   "metadata": {},
   "outputs": [],
   "source": [
    "plot_x = [i for i in range(0,1501)]"
   ]
  },
  {
   "cell_type": "code",
   "execution_count": 170,
   "metadata": {
    "scrolled": true
   },
   "outputs": [
    {
     "data": {
      "image/png": "[encoded data removed]",
      "text/plain": [
       "<Figure size 432x288 with 1 Axes>"
      ]
     },
     "metadata": {
      "needs_background": "light"
     },
     "output_type": "display_data"
    }
   ],
   "source": [
    "freq = plt.hist(first_digit, bins=9, density=True)"
   ]
  },
  {
   "cell_type": "markdown",
   "metadata": {
    "id": "HBT-fHg8b4GI"
   },
   "source": [
    "___\n",
    "**(b)** Use a Chi-square test to determine how well the data can be modeled using a uniform distribution.\n",
    "\n",
    "___\n"
   ]
  },
  {
   "cell_type": "markdown",
   "metadata": {
    "id": "0cfhwR8NqeWa"
   },
   "source": [
    "## Ans."
   ]
  },
  {
   "cell_type": "code",
   "execution_count": 135,
   "metadata": {
    "id": "Ehn4QDNZb4GI"
   },
   "outputs": [
    {
     "name": "stdout",
     "output_type": "stream",
     "text": [
      "Power_divergenceResult(statistic=2581.8391528334287, pvalue=1.062193664862219e-60)\n"
     ]
    }
   ],
   "source": [
    "chi_sq_result = chisquare(first_digit,ddof=1)\n",
    "print(chi_sq_result)"
   ]
  },
  {
   "cell_type": "markdown",
   "metadata": {
    "id": "okLmo5b2b4GI"
   },
   "source": [
    "___\n",
    "\n",
    "**(c)** Next, use a Chi-square test to test how well the data is modeled using the 'Benford's Law' distribution:\n",
    "$$p(d)= \\log _{10}(d+1)-\\log _{10}(d), \\quad d\\in\\{1,2,\\ldots,9\\}$$\n",
    "\n",
    "\n",
    "___"
   ]
  },
  {
   "cell_type": "markdown",
   "metadata": {},
   "source": [
    "gpt & demo notebook 7"
   ]
  },
  {
   "cell_type": "code",
   "execution_count": 136,
   "metadata": {},
   "outputs": [],
   "source": [
    "d_values = np.arange(1, 10)\n",
    "p_values = np.log10(d_values + 1) - np.log10(d_values)"
   ]
  },
  {
   "cell_type": "code",
   "execution_count": 177,
   "metadata": {
    "id": "oz3YDgLpb4GI"
   },
   "outputs": [
    {
     "name": "stdout",
     "output_type": "stream",
     "text": [
      "Power_divergenceResult(statistic=0.023603980193704584, pvalue=0.9999999847870469)\n"
     ]
    }
   ],
   "source": [
    "chi_sq_result = chisquare(freq[0],p_values,ddof=1)\n",
    "print(chi_sq_result)"
   ]
  },
  {
   "cell_type": "markdown",
   "metadata": {
    "id": "rVl8W5m9b4GI"
   },
   "source": [
    "___\n",
    "\n",
    "**(d)** Finally, we will repeat this analysis with a more natural dataset. The dataset `us_pop.csv` contains the US population in 100,000 different zip codes in the year 2010, and the numbers range from less than ten to almost 100,000. As above, compute the histogram of the leading digits, and use the Chi-square test to see how well the data is modeled via the uniform and the Benford's law distributions.\n",
    "___"
   ]
  },
  {
   "cell_type": "markdown",
   "metadata": {
    "id": "rKyZ12L2srUZ"
   },
   "source": [
    "## Ans."
   ]
  },
  {
   "cell_type": "code",
   "execution_count": 178,
   "metadata": {
    "id": "vl7qScg0b4GI"
   },
   "outputs": [],
   "source": [
    "pop = pd.read_csv('us_pop.csv')"
   ]
  },
  {
   "cell_type": "code",
   "execution_count": null,
   "metadata": {},
   "outputs": [],
   "source": [
    "first_digit = np.zeros(n)\n",
    "for i in range(n):\n",
    "    first_digit[i] = int(str(fact_series[i])[0])"
   ]
  },
  {
   "cell_type": "code",
   "execution_count": 190,
   "metadata": {},
   "outputs": [
    {
     "data": {
      "text/plain": [
       "1"
      ]
     },
     "execution_count": 190,
     "metadata": {},
     "output_type": "execute_result"
    }
   ],
   "source": [
    "int(str(pop['population'][0])[0])"
   ]
  },
  {
   "cell_type": "code",
   "execution_count": 191,
   "metadata": {},
   "outputs": [],
   "source": [
    "n = len(pop)\n",
    "\n",
    "lead = np.zeros(n)\n",
    "for i in range(n):\n",
    "    lead[i] = int(str(pop['population'][i])[0])"
   ]
  },
  {
   "cell_type": "code",
   "execution_count": 192,
   "metadata": {},
   "outputs": [
    {
     "data": {
      "image/png": "[encoded data removed]",
      "text/plain": [
       "<Figure size 432x288 with 1 Axes>"
      ]
     },
     "metadata": {
      "needs_background": "light"
     },
     "output_type": "display_data"
    }
   ],
   "source": [
    "freq = plt.hist(lead, bins=9, density=True)"
   ]
  },
  {
   "cell_type": "code",
   "execution_count": 195,
   "metadata": {},
   "outputs": [
    {
     "name": "stdout",
     "output_type": "stream",
     "text": [
      "Power_divergenceResult(statistic=0.015774890839416713, pvalue=0.9999999962763471)\n"
     ]
    }
   ],
   "source": [
    "chi_sq_result = chisquare(freq[0],p_values,ddof=1)\n",
    "print(chi_sq_result)"
   ]
  },
  {
   "cell_type": "markdown",
   "metadata": {
    "id": "adS-uJlsuEPA"
   },
   "source": [
    "**(e) (Optional for all students)** To understand how the Benford's law distribution originates, the important idea is that when a random variable $X$ ranges over several orders (say between $0$ and $10^6$), then it is better modelled by saying that $\\log_{10}(X)$ is uniformly distributed on interval $[0,6]$ (rather than $X$ being uniform on $[0,10^6]$. Using this, can you derive the the exact probabilities for each of the leading digits."
   ]
  },
  {
   "cell_type": "code",
   "execution_count": null,
   "metadata": {
    "id": "D3iMUEvEuRu8"
   },
   "outputs": [],
   "source": []
  }
 ],
 "metadata": {
  "colab": {
   "provenance": []
  },
  "kernelspec": {
   "display_name": "Python 3",
   "language": "python",
   "name": "python3"
  },
  "language_info": {
   "codemirror_mode": {
    "name": "ipython",
    "version": 3
   },
   "file_extension": ".py",
   "mimetype": "text/x-python",
   "name": "python",
   "nbconvert_exporter": "python",
   "pygments_lexer": "ipython3",
   "version": "3.7.4"
  }
 },
 "nbformat": 4,
 "nbformat_minor": 1
}
