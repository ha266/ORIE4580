{
 "cells": [
  {
   "cell_type": "markdown",
   "metadata": {
    "id": "yEYDm_ICb4GC"
   },
   "source": [
    "# ORIE 4580/5580/5581 Assignment 4\n",
    "\n",
    "#### Students: Adrianna Ahn\n",
    "\n",
    "### Github link: https://github.com/ha266/ORIE4580"
   ]
  },
  {
   "cell_type": "markdown",
   "metadata": {},
   "source": [
    "Consulted chat gpt for all problems"
   ]
  },
  {
   "cell_type": "markdown",
   "metadata": {
    "id": "l3G_wUFRg9v6"
   },
   "source": [
    "### Instructions\n",
    "\n",
    "\n",
    "* Due Friday September 29, at 11.59am on Gradescope.\n",
    "* Assignment .ipynb files available for download on [Canvas](https://canvas.cornell.edu/courses/56826#:~:text=Assignments-,Assignments,-Assignments%20Module%20publish). Do all your work in provided notebook (text answers typeset in markdown; show all required code and generate plots inline), and then generate and submit a pdf.\n",
    "* Ideally do assignments in groups of 2, and submit a single pdf with both names\n",
    "* Please show your work and clearly mark your answers.\n",
    "* You can use any code fragments given in class, found online (for example, on StackOverflow), or generated via Bard or ChatGPT (you are encouraged to use these for first drafts) **with proper referencing**. You can also discuss with others (again, please reference them if you do so); but you must write your final answers on your own as a team.\n",
    "\n",
    "\n",
    "\n",
    "### Suggested reading\n",
    "\n",
    "Chapters 5 (sections 5.1, 5.2 and 5.3) and 6, as well as chapter 11 (to revise again what we discussed in class about confidence intervals) of [Simulation by Ross](https://catalog.library.cornell.edu/catalog/12745977)."
   ]
  },
  {
   "cell_type": "markdown",
   "metadata": {
    "id": "5AMJpIgg0AUP"
   },
   "source": [
    "\n",
    "\n",
    "\n",
    "---\n",
    "---\n",
    "\n",
    "\n",
    "# Question 1: Multivariate normals, and some finance (20 points)\n",
    "\n",
    "\n",
    "Assume the following means and covariance matrix for the net annual returns (annual returns after accounting for inflation) on three investments:\n",
    "\n",
    "$$\\boldsymbol{\\mu}=\n",
    "\\begin{bmatrix}\n",
    "    \\mu_{\\text{U.S. stocks}}\\\\\n",
    "    \\mu_{\\text{U.S. bonds}}\\\\\n",
    "    \\mu_{\\text{EM bonds}}\n",
    "\\end{bmatrix}=\n",
    "\\begin{bmatrix}\n",
    "    0.14 \\\\\n",
    "    0.07 \\\\\n",
    "    0.16\\\\\n",
    "\\end{bmatrix},$$\n",
    "\n",
    "Moreover, we have $\\sigma^2_{\\text{U.S. stocks}}=0.0625, \\sigma^2_{\\text{U.S. bonds}}=0.01$ and $\\sigma^2_{\\text{EM bonds}}=0.09$. Assuming all three instruments are independent of each other, what is the probability that all three financial products simultaneously yield a positive return?\n"
   ]
  },
  {
   "cell_type": "markdown",
   "metadata": {
    "id": "FdZFPY8J00Nz"
   },
   "source": [
    "___\n",
    "## Ans.\n"
   ]
  },
  {
   "cell_type": "code",
   "execution_count": 1,
   "metadata": {},
   "outputs": [
    {
     "name": "stdout",
     "output_type": "stream",
     "text": [
      "0.9793289644733604\n"
     ]
    }
   ],
   "source": [
    "import numpy as np\n",
    "from scipy.stats import multivariate_normal\n",
    "\n",
    "# Define means and covariance matrix\n",
    "mu = np.array([0.14, 0.07, 0.16])\n",
    "cov_matrix = np.array([[0.0625, 0, 0], [0, 0.01, 0], [0, 0, 0.09]])\n",
    "\n",
    "# Define a lower bound for each investment (greater than zero)\n",
    "lower_bound = np.array([0, 0, 0])\n",
    "\n",
    "# Calculate the probability using multivariate normal distribution\n",
    "probability = multivariate_normal.cdf(lower_bound, mean=mu, cov=cov_matrix)\n",
    "\n",
    "# Probability that all three investments yield positive returns\n",
    "result = 1 - probability\n",
    "print(result)\n"
   ]
  },
  {
   "cell_type": "markdown",
   "metadata": {
    "id": "kHPnqRj105lL"
   },
   "source": [
    "___\n",
    "\n",
    "**(b)** Next, assume that the assets are not independent, but rather, have covariance matrix\n",
    "$$\\boldsymbol{\\Sigma}=\n",
    "\\begin{bmatrix}\n",
    "    0.0625 & -0.01 & 0.0375 \\\\\n",
    "    -0.01 & 0.01 & -0.015 \\\\\n",
    "    0.0375 & -0.015 & 0.09\n",
    "\\end{bmatrix}.$$\n",
    "\n",
    "Using simulation, estimate the probability that all three financial products simultaneously yield a positive return.\n",
    "For the purposes of this problem, you are **not allowed** to use the Python function ${\\tt numpy.random.multivariate\\_normal}$, but rather, should generate *independent* normal rvs, and then apply the method(s) discussed in class.\n",
    "In particular, you can compute the Cholesky decomposition of the covariance matrix using the Python function ${\\tt scipy.linalg.cholesky(sigma, lower=True)}$.\n",
    "___"
   ]
  },
  {
   "cell_type": "markdown",
   "metadata": {
    "id": "o-b5c59b2CV-"
   },
   "source": [
    "## Ans.\n",
    "\n"
   ]
  },
  {
   "cell_type": "code",
   "execution_count": 2,
   "metadata": {
    "id": "mT-3ogKx2Hzl"
   },
   "outputs": [
    {
     "name": "stdout",
     "output_type": "stream",
     "text": [
      "Estimated Probability: 0.37137\n"
     ]
    }
   ],
   "source": [
    "cov_matrix = np.array([[0.0625, -0.01, 0.0375],\n",
    "                        [-0.01, 0.01, -0.015],\n",
    "                        [0.0375, -0.015, 0.09]])\n",
    "\n",
    "# Perform Cholesky decomposition\n",
    "L = np.linalg.cholesky(cov_matrix)\n",
    "\n",
    "# Set the number of simulations\n",
    "num_simulations = 100000\n",
    "\n",
    "# Initialize a counter for successful simulations\n",
    "success_count = 0\n",
    "\n",
    "for _ in range(num_simulations):\n",
    "    # Generate independent standard normal random samples\n",
    "    z = np.random.normal(0, 1, 3)\n",
    "\n",
    "    # Transform the standard normal samples to correlated samples\n",
    "    correlated_returns = mu + np.dot(L, z)\n",
    "\n",
    "    # Check if all three investments yield positive returns\n",
    "    if all(correlated_returns > 0):\n",
    "        success_count += 1\n",
    "\n",
    "# Calculate the estimated probability\n",
    "estimated_probability = success_count / num_simulations\n",
    "print(\"Estimated Probability:\", estimated_probability)\n"
   ]
  },
  {
   "cell_type": "markdown",
   "metadata": {
    "id": "YX0Mw-EVb4GE"
   },
   "source": [
    "___\n",
    "___\n",
    "\n",
    "# Question 2: Covariance and copulas (30 points)\n",
    "\n",
    "In general (i.e., apart from multivariate normals), *there is no closed form formula for generating rvs with given marginals and given covariance matrix*. However, a popular heuristic is the so-called *Gaussian copula trick*, which is widely used in finance. In this question, we will try and get a sense of how we can generate correlated uniforms, and how the Gaussian copula trick works."
   ]
  },
  {
   "cell_type": "markdown",
   "metadata": {
    "id": "Yjy3dHqpb4GF"
   },
   "source": [
    "___\n",
    "\n",
    "**(a)** We will first try and make a method for generating two correlated uniform random variables $V_1$, $V_2$ with mean $\\mathbb{E}[V_1]=\\mathbb{E}[V_2]=0$, variance $Var(V_1)=Var(V_2)=1$, and covariance $Cov( V_1, V_2 ) = \\sigma_{12}$ (for some given $\\sigma_{12}\\geq 0$).\n",
    "\n",
    "For what $\\alpha,\\beta\\in\\mathbb{R}$ does a uniform distribution on $[\\alpha,\\beta]$ have mean $0$ and variance $1$.\n",
    "___\n"
   ]
  },
  {
   "cell_type": "markdown",
   "metadata": {
    "id": "wOQnI769b4GF"
   },
   "source": [
    "## Ans.\n"
   ]
  },
  {
   "cell_type": "markdown",
   "metadata": {},
   "source": [
    "$\\mu_{1} = \\mu_{2} = \\frac{\\alpha+\\beta}{2} = 0$ which means that $ \\alpha = -\\beta$\n",
    "\n",
    "$ \\frac{(\\alpha-\\beta)^2}{2} = 12 $ which means that $2\\alpha^2 = 12$\n",
    "\n",
    "$\\alpha = -\\sqrt{3}, \\beta = \\sqrt{3}$"
   ]
  },
  {
   "cell_type": "markdown",
   "metadata": {
    "id": "DRpHC9hbb4GF"
   },
   "source": [
    "___\n",
    "\n",
    "**(b)** Next, generate rvs $X_1,X_2\\sim Uniform[\\alpha, \\beta]$ i.i.d (with $\\alpha,\\beta$ from previous part), and also sample $B\\sim Bernoulli(p)$. Define:\n",
    "\\begin{align*}\n",
    "\tV_1 = X_1 \\qquad,\\qquad\n",
    "\tV_2 = (1-B)X_1+BX_2 = \\begin{cases} X_1 & \\text{ if $B = 0$} \\\\ X_2 & \\text{ if $B = 1$} \\end{cases}\n",
    "\t\\end{align*}\n",
    "\n",
    "What is $\\mathbb{E}[V_2]$ and $Var(V_2)$?\n",
    "___"
   ]
  },
  {
   "cell_type": "markdown",
   "metadata": {
    "id": "1khe5-56b4GF"
   },
   "source": [
    "## Ans.\n"
   ]
  },
  {
   "cell_type": "markdown",
   "metadata": {},
   "source": [
    "$\\mathbb{E}[V_2] = \\mathbb{E}[V_2|B=0]*P(B=0) + \\mathbb{E}[V_2|B=1] * P(B=1)$\n",
    "\n",
    "$= \\mathbb{E}[X_1] * (1-p) + \\mathbb{E}[X_2] * p = 0$\n",
    "\n",
    "$Var(V_2) = \\mathbb{E}[V_2^2] - (\\mathbb{E}[V_2])^2$\n",
    "\n",
    "$ \\mathbb{E}[V_2^2] = \\mathbb{E}[((1-B)X_1 + BX_2)^2]$"
   ]
  },
  {
   "cell_type": "markdown",
   "metadata": {
    "id": "RTfG42xCb4GF"
   },
   "source": [
    "___\n",
    "**(c)** For what value of $p$ do we get $Cov(V_1, V_2 )=\\sigma_{12}$ (for $\\sigma_{12}\\geq 0$)?\n",
    "___"
   ]
  },
  {
   "cell_type": "markdown",
   "metadata": {
    "id": "935NIM2wb4GG"
   },
   "source": [
    "## Ans.\n"
   ]
  },
  {
   "cell_type": "markdown",
   "metadata": {
    "id": "PaOyIOB-b4GG"
   },
   "source": [
    "___\n",
    "\n",
    "**(d)** Create a function to generate two correlated uniform random variables $V_1$, $V_2$ such that $\\mathbb{E}[V_1]=\\mathbb{E}[V_2]=0,Var(V_1)=Var(V_2)=1$ and $Cov( U_1, U_2 ) = \\sigma_{12}$. Use this to show a scatter plot of $(V_1,V_2)$ for correlation values $\\sigma_{12}=0,0.25,0.5,0.75$ and $1$.\n",
    "\n",
    "___"
   ]
  },
  {
   "cell_type": "markdown",
   "metadata": {
    "id": "zCTJkhsS24_-"
   },
   "source": [
    "## Ans."
   ]
  },
  {
   "cell_type": "code",
   "execution_count": null,
   "metadata": {
    "id": "cKKYGfgSb4GG"
   },
   "outputs": [],
   "source": []
  },
  {
   "cell_type": "markdown",
   "metadata": {
    "id": "8p8hETbtb4GG"
   },
   "source": [
    "___\n",
    "\n",
    "**(e)** Using the above function, compute $\\mathbb{P}[V_1\\leq 0,V_2\\leq 0]$ for the case when $\\sigma_{12}=0.5$ (in a financial application, this can correspond to *both* $V_1$ and $V_2$ 'defaulting').\n",
    "___"
   ]
  },
  {
   "cell_type": "markdown",
   "metadata": {
    "id": "sN9OODMa26v1"
   },
   "source": [
    "## Ans."
   ]
  },
  {
   "cell_type": "code",
   "execution_count": null,
   "metadata": {
    "id": "KEs9PV9vb4GG"
   },
   "outputs": [],
   "source": []
  },
  {
   "cell_type": "markdown",
   "metadata": {
    "id": "uwV_OFX7b4GH"
   },
   "source": [
    "___\n",
    "\n",
    "**(f)** The Gaussian copula trick is based on first generating a multivariate normal vector with given covariance matrix $\\Sigma$, and then using inversion to convert it to a vector of uniform rvs, which can then used to generate the desired rvs. We now demonstrate this in the above setting.\n",
    "\n",
    "Let $\\phi(\\cdot)$ denote the 1-d normal cdf. Generate $(Z_1,Z_2)$ as multivariate normals with covariance\n",
    "$\\Sigma =\\begin{pmatrix}\n",
    "\t\t1 & 0.3 \\\\\n",
    "\t\t0.3 & 1\n",
    "\t\\end{pmatrix}$,\n",
    "and define $W_1 = \\alpha + (\\beta-\\alpha)\\phi(Z_1)$ and $W_2 = \\alpha + (\\beta-\\alpha)\\phi(Z_2)$.\n",
    "\n",
    "Argue $W_1$, $W_2$ are uniform on $[\\alpha,\\beta]$ (and hence $\\mathbb{E}[W_1]=\\mathbb{E}[W_2]=0,Var(W_1)=Var(W_2)=1$). Next, for $\\sigma_{12}=0.5$ and $\\alpha,\\beta$ as above, write a function to generate $W_1,W_2$ as described, and use these to plot the scatter plot, and compute $\\mathbb{P}[W_1\\geq 0,W_2\\geq 0]$.\n",
    "\n",
    "___"
   ]
  },
  {
   "cell_type": "markdown",
   "metadata": {
    "id": "HJSveGTob4GH"
   },
   "source": [
    "## Ans.\n"
   ]
  },
  {
   "cell_type": "markdown",
   "metadata": {
    "id": "Lh-UW13FuhSQ"
   },
   "source": [
    "___\n",
    "___\n",
    "\n",
    "# Question 3: Generating random samples in some given set (20 pts)"
   ]
  },
  {
   "cell_type": "markdown",
   "metadata": {
    "id": "yc0A7WxsuyEy"
   },
   "source": [
    "___\n",
    "\n",
    "**(a)** We want to sample points which are uniformly distributed in the set  $\\mathcal{S} = \\{(x,,y)| x\\in \\mathbb{R}, y \\in [0,e^{-x^2/2}]\\}$ (i.e., between the lines $y=0$ and $y=e^{-x^2/2}$). Generate 1000 independent samples $(X_i,Y_i)$, and plot them using a scatterplot, along with the lines $y=0$ and $y=e^{-x^2/2}$.\n",
    "\n",
    "(Hint: Try to 'reverse' what we do in Acceptance-Rejection).\n",
    "___"
   ]
  },
  {
   "cell_type": "markdown",
   "metadata": {
    "id": "EGsUT8JvwI-7"
   },
   "source": [
    "## Ans."
   ]
  },
  {
   "cell_type": "code",
   "execution_count": 3,
   "metadata": {
    "id": "CGZf5O0Kx9Ws"
   },
   "outputs": [
    {
     "name": "stderr",
     "output_type": "stream",
     "text": [
      "/opt/anaconda3/lib/python3.7/site-packages/IPython/core/pylabtools.py:128: UserWarning: Glyph 119967 (\\N{MATHEMATICAL SCRIPT CAPITAL D}) missing from current font.\n",
      "  fig.canvas.print_figure(bytes_io, **kw)\n"
     ]
    },
    {
     "data": {
      "image/png": "[encoded data removed]",
      "text/plain": [
       "<Figure size 720x432 with 1 Axes>"
      ]
     },
     "metadata": {
      "needs_background": "light"
     },
     "output_type": "display_data"
    }
   ],
   "source": [
    "import numpy as np\n",
    "import matplotlib.pyplot as plt\n",
    "\n",
    "# Function to generate a random point in the rectangle R\n",
    "def generate_random_point():\n",
    "    x = np.random.uniform(-5, 5)  # Choose an appropriate range for x\n",
    "    y = np.random.uniform(0, np.exp(-x**2/2))\n",
    "    return x, y\n",
    "\n",
    "# Number of samples\n",
    "num_samples = 1000\n",
    "\n",
    "# Lists to store accepted points\n",
    "accepted_x = []\n",
    "accepted_y = []\n",
    "\n",
    "# Generate samples using acceptance-rejection\n",
    "while len(accepted_x) < num_samples:\n",
    "    x, y = generate_random_point()\n",
    "    if y <= np.exp(-x**2/2):\n",
    "        accepted_x.append(x)\n",
    "        accepted_y.append(y)\n",
    "\n",
    "# Plot the scatterplot of accepted points\n",
    "plt.figure(figsize=(10, 6))\n",
    "plt.scatter(accepted_x, accepted_y, s=10, alpha=0.5, label='Accepted Samples')\n",
    "x_values = np.linspace(-5, 5, 400)\n",
    "y_values = np.exp(-x_values**2/2)\n",
    "plt.plot(x_values, y_values, 'r', label='y = e^(-x^2/2)')\n",
    "plt.axhline(0, color='k', linestyle='--', label='y = 0')\n",
    "plt.xlabel('x')\n",
    "plt.ylabel('y')\n",
    "plt.title('Scatterplot of Points in Set 𝒟')\n",
    "plt.legend()\n",
    "plt.grid(True)\n",
    "plt.show()\n"
   ]
  },
  {
   "cell_type": "markdown",
   "metadata": {
    "id": "QhBwTPrLwKhV"
   },
   "source": [
    "___\n",
    "**(b)** Next, suppose we want to sample points which are uniformly distributed on the set $\\{(x,y)\\in\\mathbb{R}^2|x^2+y^2 = 1\\}$ (i.e., on the *circumference* of the unit circle). One way to do so may be to generate points $(U_i,V_i)$ uniformly in $[-1,1]^2$ (like in the first homework), and then *project* them to the circle, i.e., take $(X_i,Y_i) = \\left(\\frac{U_i}{\\sqrt{U_i^2+V_i^2}},\\frac{V_i}{\\sqrt{U_i^2+V_i^2}}\\right)$. Generate $1000$ points in this way, and plot them using a scatter plot.\n",
    "\n",
    "Are these uniformly distributed on the circumference of the circle? Try checking the histogram of their angles (i.e., the histogram of $\\theta_i = \\tan^{-1}(Y_i/X_i)$).\n",
    "___"
   ]
  },
  {
   "cell_type": "markdown",
   "metadata": {
    "id": "_u8ikVrMx664"
   },
   "source": [
    "## Ans."
   ]
  },
  {
   "cell_type": "code",
   "execution_count": 4,
   "metadata": {
    "id": "L9gMbHO2x8cT"
   },
   "outputs": [
    {
     "data": {
      "image/png": "[encoded data removed]",
      "text/plain": [
       "<Figure size 576x576 with 1 Axes>"
      ]
     },
     "metadata": {
      "needs_background": "light"
     },
     "output_type": "display_data"
    },
    {
     "data": {
      "image/png": "[encoded data removed]",
      "text/plain": [
       "<Figure size 576x288 with 1 Axes>"
      ]
     },
     "metadata": {
      "needs_background": "light"
     },
     "output_type": "display_data"
    }
   ],
   "source": [
    "import numpy as np\n",
    "import matplotlib.pyplot as plt\n",
    "\n",
    "# Number of samples\n",
    "num_samples = 1000\n",
    "\n",
    "# Generate random points in the square [-1, 1]^2\n",
    "U = np.random.uniform(-1, 1, num_samples)\n",
    "V = np.random.uniform(-1, 1, num_samples)\n",
    "\n",
    "# Normalize the points to lie on the unit circle\n",
    "X = U / np.sqrt(U**2 + V**2)\n",
    "Y = V / np.sqrt(U**2 + V**2)\n",
    "\n",
    "# Calculate angles\n",
    "angles = np.arctan2(Y, X)\n",
    "\n",
    "# Create a scatterplot of points on the unit circle\n",
    "plt.figure(figsize=(8, 8))\n",
    "plt.scatter(X, Y, s=10, alpha=0.5, label='Sampled Points')\n",
    "\n",
    "# Plot the unit circle\n",
    "circle = plt.Circle((0, 0), 1, color='r', fill=False, linestyle='dotted', label='Unit Circle')\n",
    "plt.gca().add_patch(circle)\n",
    "\n",
    "plt.xlim(-1.2, 1.2)\n",
    "plt.ylim(-1.2, 1.2)\n",
    "plt.gca().set_aspect('equal', adjustable='box')\n",
    "plt.xlabel('X')\n",
    "plt.ylabel('Y')\n",
    "plt.title('Scatterplot of Points on the Unit Circle')\n",
    "plt.legend()\n",
    "\n",
    "# Create a histogram of angles\n",
    "plt.figure(figsize=(8, 4))\n",
    "plt.hist(angles, bins=30, density=True, alpha=0.7, color='blue', edgecolor='black')\n",
    "plt.xlabel('Angle (radians)')\n",
    "plt.ylabel('Frequency')\n",
    "plt.title('Histogram of Angles')\n",
    "plt.grid(True)\n",
    "\n",
    "plt.show()\n"
   ]
  },
  {
   "cell_type": "markdown",
   "metadata": {
    "id": "fT4Jt0Inx99q"
   },
   "source": [
    "\n",
    "\n",
    "---\n",
    "\n",
    "**(c)** Next, generate points $(Z_i,W_i)$ as independent standard normals (i.e., $(Z_i,W_i)\\sim \\mathcal{N}(0,I_2)$, and again project them to the circle, i.e., take $(X_i,Y_i) = \\left(\\frac{Z_i}{\\sqrt{Z_i^2+W_i^2}},\\frac{W_i}{\\sqrt{Z_i^2+W_i^2}}\\right)$. Generate $1000$ points in this way, and plot them using a scatter plot.\n",
    "\n",
    "Are these uniformly distributed on the circumference of the circle? Again, check the histogram of their angles $\\theta_i$. Can you explain the difference between parts (b) and (c)?\n",
    "\n",
    "___"
   ]
  },
  {
   "cell_type": "markdown",
   "metadata": {
    "id": "g4c_Csc_ywpw"
   },
   "source": [
    "## Ans."
   ]
  },
  {
   "cell_type": "code",
   "execution_count": 5,
   "metadata": {
    "id": "NkcHgFB4yy41"
   },
   "outputs": [
    {
     "data": {
      "image/png": "[encoded data removed]",
      "text/plain": [
       "<Figure size 576x576 with 1 Axes>"
      ]
     },
     "metadata": {
      "needs_background": "light"
     },
     "output_type": "display_data"
    },
    {
     "data": {
      "image/png": "[encoded data removed]",
      "text/plain": [
       "<Figure size 576x288 with 1 Axes>"
      ]
     },
     "metadata": {
      "needs_background": "light"
     },
     "output_type": "display_data"
    }
   ],
   "source": [
    "import numpy as np\n",
    "import matplotlib.pyplot as plt\n",
    "\n",
    "# Number of samples\n",
    "num_samples = 1000\n",
    "\n",
    "# Generate independent standard normal random variables Z and W\n",
    "Z = np.random.normal(0, 1, num_samples)\n",
    "W = np.random.normal(0, 1, num_samples)\n",
    "\n",
    "# Normalize the points to lie on the unit circle\n",
    "X = Z / np.sqrt(Z**2 + W**2)\n",
    "Y = W / np.sqrt(Z**2 + W**2)\n",
    "\n",
    "# Calculate angles\n",
    "angles = np.arctan2(Y, X)\n",
    "\n",
    "# Create a scatterplot of points on the unit circle\n",
    "plt.figure(figsize=(8, 8))\n",
    "plt.scatter(X, Y, s=10, alpha=0.5, label='Sampled Points')\n",
    "\n",
    "# Plot the unit circle\n",
    "circle = plt.Circle((0, 0), 1, color='r', fill=False, linestyle='dotted', label='Unit Circle')\n",
    "plt.gca().add_patch(circle)\n",
    "\n",
    "plt.xlim(-1.2, 1.2)\n",
    "plt.ylim(-1.2, 1.2)\n",
    "plt.gca().set_aspect('equal', adjustable='box')\n",
    "plt.xlabel('X')\n",
    "plt.ylabel('Y')\n",
    "plt.title('Scatterplot of Points on the Unit Circle')\n",
    "plt.legend()\n",
    "\n",
    "# Create a histogram of angles\n",
    "plt.figure(figsize=(8, 4))\n",
    "plt.hist(angles, bins=30, density=True, alpha=0.7, color='blue', edgecolor='black')\n",
    "plt.xlabel('Angle (radians)')\n",
    "plt.ylabel('Frequency')\n",
    "plt.title('Histogram of Angles')\n",
    "plt.grid(True)\n",
    "\n",
    "plt.show()\n"
   ]
  },
  {
   "cell_type": "markdown",
   "metadata": {
    "id": "FJhVnfbFb4GI"
   },
   "source": [
    "___\n",
    "___\n",
    "\n",
    "# Question 4: The Inspection paradox (30 pts)\n",
    "\n",
    "Have you ever felt like you wait too long for elevators, taxis, buses, etc.? Guess what - you may be right!\n",
    "\n",
    "We are going to simulate a number of train and passenger arrivals at a station, and try to measure the time each passenger needs to wait for a train. To do this, first generate a stream of 10,000 train passengers, each of whom have an independent arrival time which is uniformly distributed over an interval of 1,000 minutes (i.e., passenger $i$ arrives at time $T_i\\sim [0,1,000]$. Sort the passengers by arrival time, and use this resulting vector for all subsequent parts."
   ]
  },
  {
   "cell_type": "markdown",
   "metadata": {
    "id": "xCLoBig-b4GI"
   },
   "source": [
    "___\n",
    "\n",
    "**(a)** Suppose trains arrive at the station deterministically every 10 minutes. Assume each train has infinite capacity, so that everyone waiting at the station when a train arrives can get on; also assume that passengers get on the train instantaneously. Estimate the expected time (with CIs) that any *randomly chosen* passenger spends waiting at the station for the next train.\n",
    "___\n"
   ]
  },
  {
   "cell_type": "markdown",
   "metadata": {
    "id": "YljDZzRgp_G8"
   },
   "source": [
    "## Ans."
   ]
  },
  {
   "cell_type": "code",
   "execution_count": 6,
   "metadata": {
    "id": "77FZ8tmCb4GI"
   },
   "outputs": [
    {
     "name": "stdout",
     "output_type": "stream",
     "text": [
      "Estimated Mean Waiting Time: 4.50 minutes\n",
      "95% Confidence Interval: (4.44, 4.56) minutes\n"
     ]
    }
   ],
   "source": [
    "import numpy as np\n",
    "import scipy.stats as stats\n",
    "\n",
    "# Set the random seed for reproducibility\n",
    "np.random.seed(42)\n",
    "\n",
    "# Number of passengers\n",
    "num_passengers = 10000\n",
    "\n",
    "# Generate random arrival times for passengers\n",
    "arrival_times = np.random.uniform(0, 1000, num_passengers)\n",
    "\n",
    "# Sort the passengers by arrival time\n",
    "arrival_times.sort()\n",
    "\n",
    "# Calculate the waiting times for each passenger\n",
    "waiting_times = np.arange(0, num_passengers) % 10\n",
    "\n",
    "# Calculate the mean waiting time\n",
    "mean_waiting_time = np.mean(waiting_times)\n",
    "\n",
    "# Calculate confidence intervals (95% confidence level)\n",
    "confidence_interval = stats.norm.interval(0.95, loc=mean_waiting_time, scale=stats.sem(waiting_times))\n",
    "\n",
    "print(f\"Estimated Mean Waiting Time: {mean_waiting_time:.2f} minutes\")\n",
    "print(f\"95% Confidence Interval: ({confidence_interval[0]:.2f}, {confidence_interval[1]:.2f}) minutes\")\n"
   ]
  },
  {
   "cell_type": "markdown",
   "metadata": {
    "id": "HBT-fHg8b4GI"
   },
   "source": [
    "___\n",
    "**(b)** Next, assume trains arrive at the station with *inter-arrival* time (i.e., time between two trains) distributed according to an exponential distribution with mean 10 minutes. Again, use your vector of passenger arrival times to estimate the expected waiting time for a randomly chosen passenger.\n",
    "___\n"
   ]
  },
  {
   "cell_type": "markdown",
   "metadata": {
    "id": "0cfhwR8NqeWa"
   },
   "source": [
    "## Ans."
   ]
  },
  {
   "cell_type": "code",
   "execution_count": 7,
   "metadata": {
    "id": "Ehn4QDNZb4GI"
   },
   "outputs": [
    {
     "name": "stdout",
     "output_type": "stream",
     "text": [
      "Estimated Mean Waiting Time: 3.82 minutes\n"
     ]
    }
   ],
   "source": [
    "import numpy as np\n",
    "\n",
    "# Set the random seed for reproducibility\n",
    "np.random.seed(42)\n",
    "\n",
    "# Number of passengers\n",
    "num_passengers = 10000\n",
    "\n",
    "# Generate random arrival times for passengers (as previously generated)\n",
    "arrival_times = np.random.uniform(0, 1000, num_passengers)\n",
    "\n",
    "# Sort the passengers by arrival time\n",
    "arrival_times.sort()\n",
    "\n",
    "# Generate random inter-arrival times for trains (exponential distribution with mean 10 minutes)\n",
    "inter_arrival_times = np.random.exponential(scale=10, size=num_passengers)\n",
    "\n",
    "# Calculate the waiting times for each passenger\n",
    "waiting_times = np.maximum(0, inter_arrival_times - 10)  # Maximum ensures waiting time is non-negative\n",
    "\n",
    "# Calculate the mean waiting time\n",
    "mean_waiting_time = np.mean(waiting_times)\n",
    "\n",
    "print(f\"Estimated Mean Waiting Time: {mean_waiting_time:.2f} minutes\")\n"
   ]
  },
  {
   "cell_type": "markdown",
   "metadata": {
    "id": "okLmo5b2b4GI"
   },
   "source": [
    "___\n",
    "\n",
    "**(c)** (Hopefully, you found the answer in part (b) to be different, and surprisingly so, compared to part (a).)\n",
    "\n",
    "The train service claims that there is a train every $10$ minutes on average. In part (a), this is clearly the case, but is it so in part (b) as well? To understand this, use your data from part (b) to compute an empirical estimate with CIs for the inter-arrival times between trains.\n",
    "\n",
    "___"
   ]
  },
  {
   "cell_type": "code",
   "execution_count": null,
   "metadata": {
    "id": "oz3YDgLpb4GI"
   },
   "outputs": [],
   "source": []
  },
  {
   "cell_type": "markdown",
   "metadata": {
    "id": "rVl8W5m9b4GI"
   },
   "source": [
    "___\n",
    "\n",
    "**(d)** To understand what may be happening between parts (a) and (b), use the data from the simulations in parts (a) and (b) to estimate the average inter-arrival time between trains that each passenger experiences in each case. In other words, if passenger $i$ gets on train number $n$, thn we want to define his inter-arrival time $I_i$ to be the difference $A_n~-~A_{n-1}$ where $A_n$ is the arrival time of train $n$.\n",
    "\n",
    "Compute the sample mean and CI of the interval $I_i$ for a randomly chosen passenger $i$ in each of the two settings. How are these related to the waiting time estimates you got in each part? Can you explain this?\n",
    "\n",
    "___"
   ]
  },
  {
   "cell_type": "markdown",
   "metadata": {
    "id": "rKyZ12L2srUZ"
   },
   "source": [
    "## Ans."
   ]
  },
  {
   "cell_type": "code",
   "execution_count": null,
   "metadata": {
    "id": "vl7qScg0b4GI"
   },
   "outputs": [],
   "source": []
  },
  {
   "cell_type": "markdown",
   "metadata": {
    "id": "adS-uJlsuEPA"
   },
   "source": [
    "**(e) (Optional for all students)** Based on your previous parts, can you come up with an explanation for what is going on?  "
   ]
  },
  {
   "cell_type": "markdown",
   "metadata": {
    "id": "D3iMUEvEuRu8"
   },
   "source": [
    "The inspection paradox happens because one is more likely to sample from a larger interval than a short one simply because the larger interval is larger. I.e., I like to think about throwing a needle on a number line from 0 to 10 with just one tick at 9. It is more likely that my needle will land on the 0 to 9 interval than the 9 to 10 interval. "
   ]
  }
 ],
 "metadata": {
  "colab": {
   "provenance": []
  },
  "kernelspec": {
   "display_name": "Python 3",
   "language": "python",
   "name": "python3"
  },
  "language_info": {
   "codemirror_mode": {
    "name": "ipython",
    "version": 3
   },
   "file_extension": ".py",
   "mimetype": "text/x-python",
   "name": "python",
   "nbconvert_exporter": "python",
   "pygments_lexer": "ipython3",
   "version": "3.7.4"
  }
 },
 "nbformat": 4,
 "nbformat_minor": 1
}
